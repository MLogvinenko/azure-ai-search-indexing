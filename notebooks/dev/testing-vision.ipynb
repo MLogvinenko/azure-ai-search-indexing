{
 "cells": [
  {
   "cell_type": "code",
   "execution_count": 1,
   "metadata": {},
   "outputs": [
    {
     "name": "stdout",
     "output_type": "stream",
     "text": [
      "Directory changed to C:\\Users\\pablosal\\Desktop\\gbbai-azure-ai-search-indexing\n"
     ]
    }
   ],
   "source": [
    "import os\n",
    "\n",
    "# Define the target directory\n",
    "target_directory = r\"C:\\Users\\pablosal\\Desktop\\gbbai-azure-ai-search-indexing\"  # change your directory here\n",
    "\n",
    "# Check if the directory exists\n",
    "if os.path.exists(target_directory):\n",
    "    # Change the current working directory\n",
    "    os.chdir(target_directory)\n",
    "    print(f\"Directory changed to {os.getcwd()}\")\n",
    "else:\n",
    "    print(f\"Directory {target_directory} does not exist.\")"
   ]
  },
  {
   "cell_type": "code",
   "execution_count": 2,
   "metadata": {},
   "outputs": [],
   "source": [
    "import os\n",
    "import requests"
   ]
  },
  {
   "cell_type": "code",
   "execution_count": 3,
   "metadata": {},
   "outputs": [],
   "source": [
    "from dotenv import load_dotenv\n",
    "\n",
    "# Load environment variables from .env file\n",
    "load_dotenv()\n",
    "\n",
    "# Setting up the deployment name\n",
    "deployment_name = os.getenv('AZURE_OPENAI_API_DEPLOYMENT_NAME_VISION')\n",
    "\n",
    "# The base URL for your Azure OpenAI resource. e.g. \"https://<your resource name>.openai.azure.com\"\n",
    "openai_api_base = os.getenv('AZURE_OPENAI_ENDPOINT_VISION')\n",
    "\n",
    "# The API key for your Azure OpenAI resource.\n",
    "openai_api_key = os.getenv('AZURE_OPENAI_API_KEY_VISION')\n",
    "\n",
    "# Currently OPENAI API have the following versions available: 2022-12-01. All versions follow the YYYY-MM-DD date structure.\n",
    "openai_api_version = os.getenv('AZURE_OPENAI_API_VERSION_VISION')"
   ]
  },
  {
   "cell_type": "code",
   "execution_count": 5,
   "metadata": {},
   "outputs": [],
   "source": [
    "# Define GPT-4V API call with image\n",
    "def call_GPT4V_image(messages, ocr=False, grounding=False, in_context=None, vision_api=None):\n",
    "    # Construct the API request URL\n",
    "    if ocr or grounding or in_context is not None:\n",
    "        api_url = f\"{openai_api_base}/openai/deployments/{deployment_name}/extensions/chat/completions?api-version={openai_api_version}\"\n",
    "    else:\n",
    "        api_url = f\"{openai_api_base}/openai/deployments/{deployment_name}/chat/completions?api-version={openai_api_version}\"\n",
    "\n",
    "    # Including the api-key in HTTP headers\n",
    "    headers = {\n",
    "        \"Content-Type\": \"application/json\",\n",
    "        \"api-key\": openai_api_key,\n",
    "    }\n",
    "\n",
    "    # Payload for the request\n",
    "    payload = {\n",
    "        \"model\": \"gpt-4-vision-preview\",\n",
    "        \"messages\": messages,\n",
    "        \"temperature\": 0.7,\n",
    "        \"top_p\": 0.95,\n",
    "        \"max_tokens\": 800\n",
    "    }\n",
    "\n",
    "    if ocr or grounding:\n",
    "        payload[\"enhancements\"]={\n",
    "              \"ocr\": {\n",
    "                \"enabled\": ocr # Enable OCR enhancement\n",
    "              },\n",
    "              \"grounding\": {\n",
    "                \"enabled\": grounding  # Enable grounding enhancement\n",
    "              }\n",
    "        }\n",
    "\n",
    "    data_sources = []\n",
    "\n",
    "    if in_context is not None:\n",
    "        data_sources.append({\n",
    "            \"type\": \"AzureCognitiveSearch\",\n",
    "            \"parameters\": {\n",
    "                \"endpoint\": in_context.get(\"endpoint\"),\n",
    "                \"key\": in_context.get(\"key\"),\n",
    "                \"indexName\": in_context.get(\"indexName\"),\n",
    "            }\n",
    "        })\n",
    "\n",
    "    if vision_api is not None:\n",
    "        data_sources.append({\n",
    "            \"type\": \"AzureComputerVision\",\n",
    "            \"parameters\": {\n",
    "                \"endpoint\": vision_api.get(\"endpoint\"),\n",
    "                \"key\": vision_api.get(\"key\"),\n",
    "            }\n",
    "        })\n",
    "\n",
    "    if data_sources:\n",
    "        payload[\"dataSources\"] = data_sources\n",
    "\n",
    "    # Send the request and handle the response\n",
    "    try:\n",
    "        response = requests.post(api_url, headers=headers, json=payload)\n",
    "        response.raise_for_status()  # Raise an error for bad HTTP status codes\n",
    "        return response.json()\n",
    "    except requests.RequestException as e:\n",
    "        raise SystemExit(f\"Failed to make the request. Error: {e}\")"
   ]
  },
  {
   "cell_type": "code",
   "execution_count": 6,
   "metadata": {},
   "outputs": [],
   "source": [
    "#%pip install pdf2image\n",
    "#conda install -c conda-forge poppler\n",
    "#%pip install ironpdf"
   ]
  },
  {
   "cell_type": "code",
   "execution_count": 7,
   "metadata": {},
   "outputs": [],
   "source": [
    "from pdf2image import convert_from_path\n",
    "import os\n",
    "\n",
    "def convert_pdf_to_images(pdf_path, output_folder):\n",
    "    # Ensure output folder exists\n",
    "    if not os.path.exists(output_folder):\n",
    "        os.makedirs(output_folder)\n",
    "\n",
    "    # Convert PDF to list of images\n",
    "    images = convert_from_path(pdf_path)\n",
    "\n",
    "    # Save each page as an image\n",
    "    for i, image in enumerate(images):\n",
    "        image_path = os.path.join(output_folder, f'page_{i+1}.jpg')\n",
    "        image.save(image_path, 'JPEG')\n",
    "\n",
    "    print(f\"Conversion complete. Images saved in {output_folder}\")"
   ]
  },
  {
   "cell_type": "code",
   "execution_count": 8,
   "metadata": {},
   "outputs": [],
   "source": [
    "# Example Usage\n",
    "pdf_path = 'C:\\\\Users\\\\pablosal\\\\Desktop\\\\gbbai-azure-ai-search-indexing\\\\notebooks\\\\dev\\\\instruction-manual-fisher-ewd-ews-ewt-valves-through-nps-12x8-en-124788.pdf'  # Replace with your PDF file path\n",
    "output_folder = 'C:\\\\Users\\\\pablosal\\\\Desktop\\\\gbbai-azure-ai-search-indexing\\\\notebooks\\\\dev\\\\images'  # Replace with your desired output folder path"
   ]
  },
  {
   "cell_type": "code",
   "execution_count": 9,
   "metadata": {},
   "outputs": [
    {
     "name": "stdout",
     "output_type": "stream",
     "text": [
      "Warning! Failed to install .NET 6.0. Consider manually installing .NET 6.0 from https://dotnet.microsoft.com/en-us/download/dotnet/6.0\n",
      "IronPdf detected root Python package directory of c:\\Users\\pablosal\\AppData\\Local\\anaconda3\\envs\\langchain-azureaisearch/IronPdf.Slim\n"
     ]
    },
    {
     "ename": "RuntimeError",
     "evalue": "Failed to create a .NET runtime (coreclr) using the\n                parameters {}.",
     "output_type": "error",
     "traceback": [
      "\u001b[1;31m---------------------------------------------------------------------------\u001b[0m",
      "\u001b[1;31mRuntimeError\u001b[0m                              Traceback (most recent call last)",
      "File \u001b[1;32mc:\\Users\\pablosal\\AppData\\Local\\anaconda3\\envs\\langchain-azureaisearch\\lib\\site-packages\\pythonnet\\__init__.py:77\u001b[0m, in \u001b[0;36m_create_runtime_from_spec\u001b[1;34m(spec, params)\u001b[0m\n\u001b[0;32m     76\u001b[0m \u001b[38;5;28;01melif\u001b[39;00m spec \u001b[38;5;241m==\u001b[39m \u001b[38;5;124m\"\u001b[39m\u001b[38;5;124mcoreclr\u001b[39m\u001b[38;5;124m\"\u001b[39m:\n\u001b[1;32m---> 77\u001b[0m     \u001b[38;5;28;01mreturn\u001b[39;00m clr_loader\u001b[38;5;241m.\u001b[39mget_coreclr(\u001b[38;5;241m*\u001b[39m\u001b[38;5;241m*\u001b[39mparams)\n\u001b[0;32m     78\u001b[0m \u001b[38;5;28;01melse\u001b[39;00m:\n",
      "File \u001b[1;32mc:\\Users\\pablosal\\AppData\\Local\\anaconda3\\envs\\langchain-azureaisearch\\lib\\site-packages\\clr_loader\\__init__.py:121\u001b[0m, in \u001b[0;36mget_coreclr\u001b[1;34m(runtime_config, dotnet_root, properties, runtime_spec)\u001b[0m\n\u001b[0;32m    120\u001b[0m \u001b[38;5;28;01mif\u001b[39;00m dotnet_root \u001b[38;5;129;01mis\u001b[39;00m \u001b[38;5;28;01mNone\u001b[39;00m:\n\u001b[1;32m--> 121\u001b[0m     dotnet_root \u001b[38;5;241m=\u001b[39m \u001b[43mfind_dotnet_root\u001b[49m\u001b[43m(\u001b[49m\u001b[43m)\u001b[49m\n\u001b[0;32m    123\u001b[0m temp_dir \u001b[38;5;241m=\u001b[39m \u001b[38;5;28;01mNone\u001b[39;00m\n",
      "File \u001b[1;32mc:\\Users\\pablosal\\AppData\\Local\\anaconda3\\envs\\langchain-azureaisearch\\lib\\site-packages\\clr_loader\\util\\find.py:57\u001b[0m, in \u001b[0;36mfind_dotnet_root\u001b[1;34m()\u001b[0m\n\u001b[0;32m     56\u001b[0m \u001b[38;5;28;01mif\u001b[39;00m \u001b[38;5;129;01mnot\u001b[39;00m dotnet_cli:\n\u001b[1;32m---> 57\u001b[0m     \u001b[38;5;28;01mraise\u001b[39;00m \u001b[38;5;167;01mRuntimeError\u001b[39;00m(\u001b[38;5;124m\"\u001b[39m\u001b[38;5;124mCan not determine dotnet root\u001b[39m\u001b[38;5;124m\"\u001b[39m)\n\u001b[0;32m     59\u001b[0m \u001b[38;5;28;01mreturn\u001b[39;00m dotnet_cli\u001b[38;5;241m.\u001b[39mresolve()\u001b[38;5;241m.\u001b[39mparent\n",
      "\u001b[1;31mRuntimeError\u001b[0m: Can not determine dotnet root",
      "\nThe above exception was the direct cause of the following exception:\n",
      "\u001b[1;31mRuntimeError\u001b[0m                              Traceback (most recent call last)",
      "Cell \u001b[1;32mIn[9], line 1\u001b[0m\n\u001b[1;32m----> 1\u001b[0m \u001b[38;5;28;01mfrom\u001b[39;00m \u001b[38;5;21;01mironpdf\u001b[39;00m \u001b[38;5;28;01mimport\u001b[39;00m PdfDocument\n\u001b[0;32m      2\u001b[0m pdf \u001b[38;5;241m=\u001b[39m PdfDocument\u001b[38;5;241m.\u001b[39mFromFile(pdf_path)\n\u001b[0;32m      3\u001b[0m \u001b[38;5;66;03m# Extract all pages to a folder as image files\u001b[39;00m\n",
      "File \u001b[1;32mc:\\Users\\pablosal\\AppData\\Local\\anaconda3\\envs\\langchain-azureaisearch\\lib\\site-packages\\ironpdf\\__init__.py:60\u001b[0m\n\u001b[0;32m     58\u001b[0m \u001b[38;5;66;03m# load .NET\u001b[39;00m\n\u001b[0;32m     59\u001b[0m \u001b[38;5;28;01mfrom\u001b[39;00m \u001b[38;5;21;01mpythonnet\u001b[39;00m \u001b[38;5;28;01mimport\u001b[39;00m load\n\u001b[1;32m---> 60\u001b[0m \u001b[43mload\u001b[49m\u001b[43m(\u001b[49m\u001b[38;5;124;43m\"\u001b[39;49m\u001b[38;5;124;43mcoreclr\u001b[39;49m\u001b[38;5;124;43m\"\u001b[39;49m\u001b[43m)\u001b[49m\n\u001b[0;32m     61\u001b[0m \u001b[38;5;28;01mimport\u001b[39;00m \u001b[38;5;21;01mclr\u001b[39;00m\n\u001b[0;32m     62\u001b[0m \u001b[38;5;66;03m# import ironpdf .net assembly\u001b[39;00m\n",
      "File \u001b[1;32mc:\\Users\\pablosal\\AppData\\Local\\anaconda3\\envs\\langchain-azureaisearch\\lib\\site-packages\\pythonnet\\__init__.py:135\u001b[0m, in \u001b[0;36mload\u001b[1;34m(runtime, **params)\u001b[0m\n\u001b[0;32m    133\u001b[0m         set_runtime_from_env()\n\u001b[0;32m    134\u001b[0m     \u001b[38;5;28;01melse\u001b[39;00m:\n\u001b[1;32m--> 135\u001b[0m         set_runtime(runtime, \u001b[38;5;241m*\u001b[39m\u001b[38;5;241m*\u001b[39mparams)\n\u001b[0;32m    137\u001b[0m \u001b[38;5;28;01mif\u001b[39;00m _RUNTIME \u001b[38;5;129;01mis\u001b[39;00m \u001b[38;5;28;01mNone\u001b[39;00m:\n\u001b[0;32m    138\u001b[0m     \u001b[38;5;28;01mraise\u001b[39;00m \u001b[38;5;167;01mRuntimeError\u001b[39;00m(\u001b[38;5;124m\"\u001b[39m\u001b[38;5;124mNo valid runtime selected\u001b[39m\u001b[38;5;124m\"\u001b[39m)\n",
      "File \u001b[1;32mc:\\Users\\pablosal\\AppData\\Local\\anaconda3\\envs\\langchain-azureaisearch\\lib\\site-packages\\pythonnet\\__init__.py:29\u001b[0m, in \u001b[0;36mset_runtime\u001b[1;34m(runtime, **params)\u001b[0m\n\u001b[0;32m     26\u001b[0m     \u001b[38;5;28;01mraise\u001b[39;00m \u001b[38;5;167;01mRuntimeError\u001b[39;00m(\u001b[38;5;124mf\u001b[39m\u001b[38;5;124m\"\u001b[39m\u001b[38;5;124mThe runtime \u001b[39m\u001b[38;5;132;01m{\u001b[39;00m_RUNTIME\u001b[38;5;132;01m}\u001b[39;00m\u001b[38;5;124m has already been loaded\u001b[39m\u001b[38;5;124m\"\u001b[39m)\n\u001b[0;32m     28\u001b[0m \u001b[38;5;28;01mif\u001b[39;00m \u001b[38;5;28misinstance\u001b[39m(runtime, \u001b[38;5;28mstr\u001b[39m):\n\u001b[1;32m---> 29\u001b[0m     runtime \u001b[38;5;241m=\u001b[39m \u001b[43m_create_runtime_from_spec\u001b[49m\u001b[43m(\u001b[49m\u001b[43mruntime\u001b[49m\u001b[43m,\u001b[49m\u001b[43m \u001b[49m\u001b[43mparams\u001b[49m\u001b[43m)\u001b[49m\n\u001b[0;32m     31\u001b[0m _RUNTIME \u001b[38;5;241m=\u001b[39m runtime\n",
      "File \u001b[1;32mc:\\Users\\pablosal\\AppData\\Local\\anaconda3\\envs\\langchain-azureaisearch\\lib\\site-packages\\pythonnet\\__init__.py:90\u001b[0m, in \u001b[0;36m_create_runtime_from_spec\u001b[1;34m(spec, params)\u001b[0m\n\u001b[0;32m     82\u001b[0m     \u001b[38;5;28;01mraise\u001b[39;00m \u001b[38;5;167;01mRuntimeError\u001b[39;00m(\n\u001b[0;32m     83\u001b[0m         \u001b[38;5;124mf\u001b[39m\u001b[38;5;124m\"\"\"\u001b[39m\u001b[38;5;124mFailed to create a default .NET runtime, which would\u001b[39m\n\u001b[0;32m     84\u001b[0m \u001b[38;5;124m            have been \u001b[39m\u001b[38;5;124m\"\u001b[39m\u001b[38;5;132;01m{\u001b[39;00mspec\u001b[38;5;132;01m}\u001b[39;00m\u001b[38;5;124m\"\u001b[39m\u001b[38;5;124m on this system. Either install a\u001b[39m\n\u001b[1;32m   (...)\u001b[0m\n\u001b[0;32m     87\u001b[0m \u001b[38;5;124m            (see set_runtime_from_env).\u001b[39m\u001b[38;5;124m\"\"\"\u001b[39m\n\u001b[0;32m     88\u001b[0m     ) \u001b[38;5;28;01mfrom\u001b[39;00m \u001b[38;5;21;01mexc\u001b[39;00m\n\u001b[0;32m     89\u001b[0m \u001b[38;5;28;01melse\u001b[39;00m:\n\u001b[1;32m---> 90\u001b[0m     \u001b[38;5;28;01mraise\u001b[39;00m \u001b[38;5;167;01mRuntimeError\u001b[39;00m(\n\u001b[0;32m     91\u001b[0m         \u001b[38;5;124mf\u001b[39m\u001b[38;5;124m\"\"\"\u001b[39m\u001b[38;5;124mFailed to create a .NET runtime (\u001b[39m\u001b[38;5;132;01m{\u001b[39;00mspec\u001b[38;5;132;01m}\u001b[39;00m\u001b[38;5;124m) using the\u001b[39m\n\u001b[0;32m     92\u001b[0m \u001b[38;5;124m        parameters \u001b[39m\u001b[38;5;132;01m{\u001b[39;00mparams\u001b[38;5;132;01m}\u001b[39;00m\u001b[38;5;124m.\u001b[39m\u001b[38;5;124m\"\"\"\u001b[39m\n\u001b[0;32m     93\u001b[0m     ) \u001b[38;5;28;01mfrom\u001b[39;00m \u001b[38;5;21;01mexc\u001b[39;00m\n",
      "\u001b[1;31mRuntimeError\u001b[0m: Failed to create a .NET runtime (coreclr) using the\n                parameters {}."
     ]
    }
   ],
   "source": [
    "from ironpdf import PdfDocument\n",
    "pdf = PdfDocument.FromFile(pdf_path)\n",
    "# Extract all pages to a folder as image files\n",
    "pdf.RasterizeToImageFiles(output_folder + '\\\\*.png', DPI=96)"
   ]
  },
  {
   "cell_type": "code",
   "execution_count": null,
   "metadata": {},
   "outputs": [],
   "source": [
    "import base64"
   ]
  },
  {
   "cell_type": "code",
   "execution_count": null,
   "metadata": {},
   "outputs": [],
   "source": [
    "image_file_path = \"../../common/images/TravelAssistant.jpeg\"  # Update with your image path\n",
    "sys_message = \"You are an AI assistant capable of processing and summarizing complex documents with diagrams and tables.\"\n",
    "user_prompt = '''Can you analyze this document? Please provide a summary first and then include key information and details from tables and diagrams as bullet points.\n",
    "I need all the information in detail and with a lot of granularity to make sure all the details are captured. The intention is another system will read this information and understand\n",
    "in detail the context and be able to answer precise questions.'''\n",
    "\n",
    "# Encode the image in base64\n",
    "with open(image_file_path, 'rb') as image_file:\n",
    "    encoded_image = base64.b64encode(image_file.read()).decode('utf-8')\n",
    "\n",
    "messages = [\n",
    "    {\n",
    "      \"role\": \"system\",\n",
    "      \"content\": [\n",
    "          {\n",
    "            \"type\": \"text\", \n",
    "            \"text\": sys_message\n",
    "          }\n",
    "      ]\n",
    "    },\n",
    "    {\n",
    "      \"role\": \"user\",\n",
    "      \"content\": [\n",
    "          {\n",
    "            \"type\": \"text\",\n",
    "            \"text\": user_prompt # Prompt for the user\n",
    "          },\n",
    "          {\n",
    "            \"type\": \"image_url\",\n",
    "            \"image_url\": {\n",
    "                \"url\": f\"data:image/jpeg;base64,{encoded_image}\" # Image to be processed\n",
    "          }\n",
    "          }\n",
    "      ]\n",
    "    }\n",
    "  ]\n",
    "\n",
    "# vision_api_config = {\n",
    "#     \"endpoint\": vision_api_endpoint,\n",
    "#     \"key\": vision_api_key\n",
    "# }\n",
    "\n",
    "try:\n",
    "    response_content = call_GPT4V_image(messages, ocr=True, vision_api=None)\n",
    "    display(Image(image_file_path)) \n",
    "    print(response_content['choices'][0]['message']['content'])  # Print the content of the response\n",
    "except Exception as e:\n",
    "    raise SystemExit(f\"Failed to call GPT-4V API. Error: {e}\")"
   ]
  }
 ],
 "metadata": {
  "kernelspec": {
   "display_name": "langchain-azureaisearch",
   "language": "python",
   "name": "python3"
  },
  "language_info": {
   "codemirror_mode": {
    "name": "ipython",
    "version": 3
   },
   "file_extension": ".py",
   "mimetype": "text/x-python",
   "name": "python",
   "nbconvert_exporter": "python",
   "pygments_lexer": "ipython3",
   "version": "3.9.18"
  }
 },
 "nbformat": 4,
 "nbformat_minor": 2
}
