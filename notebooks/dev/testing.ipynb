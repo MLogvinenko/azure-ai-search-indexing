{
 "cells": [
  {
   "cell_type": "code",
   "execution_count": 1,
   "metadata": {},
   "outputs": [
    {
     "name": "stdout",
     "output_type": "stream",
     "text": [
      "Directory changed to C:\\Users\\pablosal\\Desktop\\gbbai-langchain-azureai-search\n"
     ]
    }
   ],
   "source": [
    "import os\n",
    "\n",
    "# Define the target directory\n",
    "target_directory = r'C:\\Users\\pablosal\\Desktop\\gbbai-langchain-azureai-search' #change your directory here\n",
    "\n",
    "# Check if the directory exists\n",
    "if os.path.exists(target_directory):\n",
    "    # Change the current working directory\n",
    "    os.chdir(target_directory)\n",
    "    print(f\"Directory changed to {os.getcwd()}\")\n",
    "else:\n",
    "    print(f\"Directory {target_directory} does not exist.\")"
   ]
  },
  {
   "cell_type": "code",
   "execution_count": 2,
   "metadata": {},
   "outputs": [],
   "source": [
    "from src.gbb_ai.blob import AzureBlobManager"
   ]
  },
  {
   "cell_type": "code",
   "execution_count": 3,
   "metadata": {},
   "outputs": [
    {
     "name": "stderr",
     "output_type": "stream",
     "text": [
      "2023-12-20 12:02:35,218 - micro - MainProcess - INFO     Initialized AzureBlobManager with container testretrieval (blob.py:__init__:43)\n"
     ]
    }
   ],
   "source": [
    "azure_blob = AzureBlobManager(container_name='testretrieval')"
   ]
  },
  {
   "cell_type": "code",
   "execution_count": 4,
   "metadata": {},
   "outputs": [
    {
     "name": "stderr",
     "output_type": "stream",
     "text": [
      "2023-12-20 12:02:40,909 - micro - MainProcess - INFO     Text extraction from PDF bytes was successful. (pdf_data_extractor.py:extract_text_from_pdf_bytes:33)\n"
     ]
    }
   ],
   "source": [
    "file = azure_blob.load_object(file_name=\"autogen.pdf\")"
   ]
  },
  {
   "cell_type": "code",
   "execution_count": 5,
   "metadata": {},
   "outputs": [
    {
     "name": "stderr",
     "output_type": "stream",
     "text": [
      "2023-12-20 12:02:42,408 - micro - MainProcess - INFO     Successfully loaded DOCX file test.docx (blob.py:load_object:98)\n"
     ]
    }
   ],
   "source": [
    "file = azure_blob.load_object(file_name=\"test.docx\")"
   ]
  }
 ],
 "metadata": {
  "kernelspec": {
   "display_name": "Python 3.10.12 ('my-template-environment')",
   "language": "python",
   "name": "python3"
  },
  "language_info": {
   "codemirror_mode": {
    "name": "ipython",
    "version": 3
   },
   "file_extension": ".py",
   "mimetype": "text/x-python",
   "name": "python",
   "nbconvert_exporter": "python",
   "pygments_lexer": "ipython3",
   "version": "3.9.18"
  },
  "orig_nbformat": 4,
  "vscode": {
   "interpreter": {
    "hash": "7cde2d05b67b86bafb567671a494f38119b1228112c72ed3f4909b1daf51dd2c"
   }
  }
 },
 "nbformat": 4,
 "nbformat_minor": 2
}
