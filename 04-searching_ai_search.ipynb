{
 "cells": [
  {
   "cell_type": "markdown",
   "metadata": {},
   "source": [
    "## ❗ Problem Statement\n",
    "\n",
    "\n",
    "##### Understand Quantitve measure of relevenace \n",
    "\n",
    "\n",
    "+ **NDCG@10**: This metric, standing for Normalized Discounted Cumulative Gain at 10, rates a retrieval system's effectiveness in finding and correctly ordering the top 10 documents. The score ranges from 0 to 100, reflecting how closely the system's ordered list matches the ideal order of documents. NDCG@10 is widely used for its balance in evaluating both the precision of results and their proper sequencing.\n",
    "\n",
    "- **NDCG@3**: Similar to NDCG@10, NDCG@3 focuses on the top 3 documents. It's particularly relevant in contexts where the highest accuracy in the topmost results is crucial, like in generative AI applications. This metric scores the system's ability to identify and correctly rank the three most relevant documents.\n",
    "\n",
    "+ **Recall@50**: This measures the proportion of high-quality documents identified within the top 50 results. It's calculated by counting the number of documents rated as high quality by a scoring prompt and dividing this by the total number of known good documents for a given query. It's a useful metric for assessing the system's ability to retrieve a broad set of relevant documents from a large pool.\n",
    "\n",
    "##### The limitation of semantic search and embeddings \n",
    "\n",
    "+ Limitations of Embedding-Based Search\n",
    "\n",
    "    - Weakness in Keyword Precision: Embedding-based search excels in understanding the overall context and semantic meaning but may falter in accurately identifying specific keywords or phrases.It can miss documents containing exact terms if those terms are not semantically aligned with the rest of the content or query.\n",
    "    + Contextual Misinterpretation: Embeddings can sometimes overgeneralize or misinterpret the context, leading to the retrieval of documents that are broadly relevant but miss specific nuances or details. They might struggle with distinguishing subtle differences in meanings, especially in specialized or technical domains.\n",
    "    - Dependency on Training Data:The effectiveness of embeddings is highly dependent on the data they were trained on. If the training data lacks diversity or depth in certain topics, the embeddings may not capture those areas well.\n",
    "\n",
    "+ Limitations of Semantic Search\n",
    "\n",
    "    - Struggles with Synonyms and Paraphrasing:Traditional semantic search methods are often rigid in matching terms. They might not recognize synonyms or different ways of expressing the same idea, limiting their ability to retrieve all relevant documents.\n",
    "    + Limited Understanding of Context:\n",
    "    Semantic search can be effective in finding documents with specific terms but might not fully grasp the broader context or the intent behind a query. This limitation becomes pronounced in complex queries where understanding the context or the relationship between terms is crucial.\n",
    "\n"
   ]
  },
  {
   "cell_type": "markdown",
   "metadata": {},
   "source": [
    "## 💡 Solution\n",
    "\n",
    "\n",
    "Hybrid Search as a Winner: Hybrid search combines keyword and vector search methods, capitalizing on the strengths of both. Keyword search excels in identifying specific terms, while vector search excels in understanding semantic similarities. This combination ensures a more comprehensive and accurate retrieval of documents, making it especially effective for diverse and complex search queries.\n",
    "\n",
    "Re-Ranking and L2 in Cognitive Search: The L2 layer in cognitive search improves upon the initial retrieval (L1) results by applying advanced ranking algorithms. It reorders the top documents, focusing on enhancing relevance and contextual accuracy. This is particularly important in scenarios where the initial retrieval might miss subtle nuances. L2 uses more sophisticated techniques, often leveraging deep learning models, to ensure the most relevant results are prioritized. \n",
    "\n",
    "In more detail: The semantic ranker runs the query and documents text simultaneously though transformer models that utilize the cross-attention mechanism to produce a ranker score. The query and document chunk score is calibrated to a range that is consistent across all indexes and queries. A score of 0 represents a very irrelevant chunk, and a score of 4 represents an excellent one. In the chart below, Hybrid + Semantic ranking finds the best content for the LLM at each result set size. "
   ]
  },
  {
   "cell_type": "markdown",
   "metadata": {},
   "source": [
    "## 📝 How-to\n",
    "\n",
    "### 🌐 Azure Hybrid Search with Semantic Reranker\n",
    "\n",
    "This section covers the implementation of a hybrid search system that combines traditional Azure search with a semantic reranker for improved results.\n",
    "\n",
    "### 📊 Implementation of Evaluation Metrics using Scikit-learn\n",
    "\n",
    "We will use the `ndcg_score` function from the `sklearn.metrics` module to evaluate our search system. This function calculates the Normalized Discounted Cumulative Gain (NDCG), a commonly used metric for evaluating the quality of a ranked list of items.\n",
    "\n",
    "```python\n",
    "from sklearn.metrics import ndcg_score\n",
    "import numpy as np\n",
    "\n",
    "# Sample data: Predicted scores and true relevance scores for a set of documents\n",
    "predicted_scores = np.array([[0.9, 0.8, 0.7, 0.6, 0.5, 0.4, 0.3, 0.2, 0.1, 0.05]])\n",
    "true_relevance = np.array([[1, 1, 0, 0, 1, 0, 0, 0, 0, 0]])  # Assuming binary relevance (1 for relevant, 0 for not relevant)\n",
    "\n",
    "# NDCG@10\n",
    "ndcg_at_10 = ndcg_score(true_relevance, predicted_scores, k=10)\n",
    "print(f\"NDCG@10: {ndcg_at_10}\")\n",
    "\n",
    "# NDCG@3\n",
    "ndcg_at_3 = ndcg_score(true_relevance, predicted_scores, k=3)\n",
    "print(f\"NDCG@3: {ndcg_at_3}\")\n",
    "\n",
    "# Recall@50 - Normally, we'd have 50 documents, but for this example, we'll use the 10 we have\n",
    "relevant_documents_count = np.sum(true_relevance)\n",
    "recall_at_50 = relevant_documents_count / len(true_relevance[0])  # Dividing by total documents (50 ideally)\n",
    "print(f\"Recall@50: {recall_at_50}\")\n",
    "```\n",
    "\n",
    "### 🎯 Evaluation Process\n",
    "\n",
    "1. **🔍 Gather Azure Cognitive Search Results**: Retrieve the search results from Azure Cognitive Search.\n",
    "\n",
    "2. **🎯 Define Ground Truth Relevance Scores**: Establish a ground truth set of relevance scores for the search results.\n",
    "\n",
    "3. **📈 Calculate NDCG@3**: Use the `ndcg_score` function to calculate the NDCG at the 3rd position. This gives us a measure of the quality of the top 3 results.\n",
    "```"
   ]
  },
  {
   "cell_type": "markdown",
   "metadata": {},
   "source": [
    "## Getting Started\n",
    "\n",
    "Before you start, ensure you have a `.env` file in your project directory with the following keys:\n",
    "\n",
    "```plaintext\n",
    "# Azure AI Search Service Configuration\n",
    "AZURE_AI_SEARCH_SERVICE_ENDPOINT=\"[Your Azure Search Service Endpoint]\"\n",
    "AZURE_SEARCH_ADMIN_KEY=\"[Your Azure Search Index Name]\"\n",
    "\n",
    "#Azure Open API Configuration\n",
    "AZURE_OPENAI_API_KEY='[Your OpenAI API Key]'\n",
    "AZURE_OPENAI_ENDPOINT='[Your OpenAI Endpoint]'\n",
    "AZURE_OPENAI_API_VERSION='[Your Azure OpenAI API Version]'\n",
    "```\n",
    "\n",
    "#### Setting Up Conda Environment and Configuring VSCode for Jupyter Notebooks\n",
    "\n",
    "Follow these steps to create a Conda environment and set up your VSCode for running Jupyter Notebooks:\n",
    "\n",
    "##### Create Conda Environment from the Repository\n",
    "\n",
    "1. **Prepare the Environment File**:\n",
    "   - Ensure you have an `environment.yml` file in your repository. This file should list all the necessary libraries and dependencies for your project.\n",
    "\n",
    "2. **Use `make` to Create the Conda Environment**:\n",
    "   - In your terminal or command line, navigate to the repository directory and look at the Makefile.\n",
    "   - Execute the `make` command specified below to create the Conda environment using the `environment.yml` file:\n",
    "     \n",
    "     ```bash\n",
    "     make create_conda_env\n",
    "     ```\n",
    "\n",
    "   - This command runs a `make` target that creates a Conda environment as defined in `environment.yml`.\n",
    "\n",
    "3. **Activating the Environment**:\n",
    "   - After creation, activate the new Conda environment by using:\n",
    "     ```bash\n",
    "     conda activate [YourEnvName]\n",
    "     ```\n",
    "     Replace `[YourEnvName]` with the name of your environment as specified in `environment.yml`.\n",
    "\n",
    "##### Configure VSCode for Jupyter Notebooks\n",
    "\n",
    "1. **Install Required Extensions**:\n",
    "   - Download and install the `Python` and `Jupyter` extensions in VSCode.\n",
    "\n",
    "2. **Attach Kernel to VSCode**:\n",
    "   - Once the Conda environment is created, you should be able to see it in the kernel selection (top right corner of your VSCode interface).\n",
    "   - Select your newly created environment as the kernel for running Jupyter Notebooks.\n",
    "\n",
    "By following these steps, you'll set up a dedicated Conda environment for your project and configure VSCode to run Jupyter Notebooks efficiently. This environment will contain all the necessary dependencies in your `environment.yml` file.\n",
    "\n",
    "\n"
   ]
  },
  {
   "cell_type": "code",
   "execution_count": 27,
   "metadata": {},
   "outputs": [],
   "source": [
    "import os\n",
    "from dotenv import load_dotenv\n",
    "from azure.core.credentials import AzureKeyCredential\n",
    "from azure.search.documents import SearchClient\n",
    "from azure.search.documents.models import Vector"
   ]
  },
  {
   "cell_type": "code",
   "execution_count": 28,
   "metadata": {},
   "outputs": [],
   "source": [
    "from src.gbb_ai.langchain_integration_azureai import TextChunkingIndexing"
   ]
  },
  {
   "cell_type": "code",
   "execution_count": 29,
   "metadata": {},
   "outputs": [
    {
     "name": "stderr",
     "output_type": "stream",
     "text": [
      "2023-12-13 17:52:02,425 - micro - MainProcess - INFO     Loading OpenAIEmbeddings object with model, deployment foundational-ada, and chunk size 1000 (langchain_integration_azureai.py:load_embedding_model:114)\n"
     ]
    },
    {
     "name": "stderr",
     "output_type": "stream",
     "text": [
      "2023-12-13 17:52:03,202 - micro - MainProcess - INFO     AzureOpenAIEmbeddings object created successfully. (langchain_integration_azureai.py:load_embedding_model:125)\n"
     ]
    }
   ],
   "source": [
    "# Load environment variables from .env file\n",
    "load_dotenv()\n",
    "\n",
    "# Set up Azure Cognitive Search credentials\n",
    "service_endpoint = os.getenv(\"AZURE_AI_SEARCH_SERVICE_ENDPOINT\")\n",
    "key = os.getenv(\"AZURE_SEARCH_ADMIN_KEY\")\n",
    "credential = AzureKeyCredential(key)\n",
    "\n",
    "# Import the TextChunkingIndexing class from the langchain_integration module\n",
    "from src.gbb_ai.langchain_integration_azureai import TextChunkingIndexing\n",
    "\n",
    "# Create an instance of the TextChunkingIndexing class\n",
    "gbb_ai_client = TextChunkingIndexing()\n",
    "\n",
    "# load the environment variables from the .env file\n",
    "gbb_ai_client.load_environment_variables_from_env_file()\n",
    "\n",
    "# Define the name of the deployment\n",
    "DEPLOYMENT_NAME = \"foundational-ada\"\n",
    "\n",
    "# Load the embedding model associated with the specified deployment\n",
    "embedding_model = gbb_ai_client.load_embedding_model(azure_deployment=DEPLOYMENT_NAME)"
   ]
  },
  {
   "cell_type": "code",
   "execution_count": 30,
   "metadata": {},
   "outputs": [],
   "source": [
    "# Define the name of the Azure Search index\n",
    "# This is the index where your data is stored in Azure Search\n",
    "index_name = 'index-churchofjesuschrist-web'\n",
    "\n",
    "# Set up the Azure Search client with the specified index\n",
    "# This prepares the client to interact with the Azure Search service\n",
    "search_client = SearchClient(service_endpoint, index_name, credential=credential)"
   ]
  },
  {
   "cell_type": "code",
   "execution_count": 31,
   "metadata": {},
   "outputs": [],
   "source": [
    "search_query = \"Who is Jesus Christ?\"\n",
    "search_vector = embedding_model.embed_query(search_query)"
   ]
  },
  {
   "cell_type": "code",
   "execution_count": 32,
   "metadata": {},
   "outputs": [
    {
     "name": "stdout",
     "output_type": "stream",
     "text": [
      "score: 0.84436035. God’s Work of Salvation and Exaltation   Living the Gospel of Jesus Christ   16. Living the Gospel of Jesus ChristWe live the gospel as we exercise faith in Jesus Christ, repent daily, make covenants with God as we receive the ordinances of salvation and exaltation, and endure to the end by keeping those covenants.  17. Teaching the Gospel   17. Teaching the GospelEffective gospel teaching helps people grow in their testimonies and their faith in Heavenly Father and Jesus Christ.\n",
      "score: 0.83588856. Isaiah 7Ephraim and Syria wage war against Judah—Christ will be born of a virgin—Compare 2 Nephi 17.   Isaiah 8Christ will be as a stone of stumbling and a rock of offense—Seek the Lord, not muttering wizards—Turn to the law and to the testimony for guidance—Compare 2 Nephi 18.   Isaiah 9Isaiah speaks about the Messiah—The people in darkness will see a great Light—Unto us a Child is born—He will be the Prince of Peace and reign on David’s throne—Compare 2 Nephi 19.\n",
      "score: 0.83536595. Psalm 45A messianic psalm—The Messiah is fairer than the children of men—He is anointed with the oil of gladness above His fellows—His name will be remembered in all generations.   Psalm 46God is our refuge and strength—He dwells in His city, does marvelous things, and says, Be still and know that I am God.   Psalm 47The Lord is King over all the earth—Sing praises to His name, for He reigns over all.   Psalm 48Zion, the city of God, the joy of the whole earth, will be established forever.\n",
      "score: 0.83506775. Isaiah 42Isaiah speaks about the Messiah—The Lord will bring His law and His justice, be a light to the Gentiles, and free the prisoners—Praise the Lord.   Isaiah 43To Israel the Lord says, I am your God; I will gather your descendants; beside me there is no Savior; you are my witnesses.   Isaiah 44The Lord’s Spirit will be poured out on the descendants of Israel—Idols of wood are as fuel for a fire—The Lord will gather, bless, and redeem Israel and rebuild Jerusalem.\n",
      "score: 0.8338765. Zechariah 12In the final great war, all nations will be engaged at Jerusalem, but the Lord will defend His people—Then the Jews will look upon the Lord, whom they crucified, and there will be great mourning.   Zechariah 13The Jews will gain forgiveness at the Second Coming—They will ask the Lord, What are these wounds in Thine hands?—The remnant, tried and refined, will be His people.\n"
     ]
    }
   ],
   "source": [
    "# Pure vector Search\n",
    "r = search_client.search(None, top=5,vectors=[Vector(value=search_vector, k=50, fields=\"content_vector\")])\n",
    "for doc in r:\n",
    "    content = doc[\"content\"].replace(\"\\n\", \" \")[:1000]\n",
    "    print(f\"score: {doc['@search.score']}. {content}\")"
   ]
  },
  {
   "cell_type": "code",
   "execution_count": 33,
   "metadata": {},
   "outputs": [
    {
     "name": "stdout",
     "output_type": "stream",
     "text": [
      "score: 8.379741. 18.12.1. Who Performs the OrdinanceOrdinances and blessings are sacred acts performed by the authority of the priesthood and in the name of Jesus Christ. As priesthood holders perform ordinances and blessings, they follow the Savior’s example of blessing others.\n",
      "score: 8.292201. 18.10.4. Who Performs the OrdinanceOrdinances and blessings are sacred acts performed by the authority of the priesthood and in the name of Jesus Christ. As priesthood holders perform ordinances and blessings, they follow the Savior’s example of blessing others.\n",
      "score: 8.288818. 18.6.1. Who Gives the BlessingOrdinances and blessings are sacred acts performed by the authority of the priesthood and in the name of Jesus Christ. As priesthood holders perform ordinances and blessings, they follow the Savior’s example of blessing others.   18.6.2. InstructionsOrdinances and blessings are sacred acts performed by the authority of the priesthood and in the name of Jesus Christ. As priesthood holders perform ordinances and blessings, they follow the Savior’s example of blessing others.\n",
      "score: 8.130054. 18.9.2. Who Performs the OrdinanceOrdinances and blessings are sacred acts performed by the authority of the priesthood and in the name of Jesus Christ. As priesthood holders perform ordinances and blessings, they follow the Savior’s example of blessing others.\n",
      "score: 7.8656917. 10.1.1. PurposeAaronic Priesthood quorums help young men make and keep sacred covenants and deepen their conversion to Jesus Christ and His gospel.   10.1.2. Aaronic Priesthood Quorum ThemeAaronic Priesthood quorums help young men make and keep sacred covenants and deepen their conversion to Jesus Christ and His gospel.   10.1.3. QuorumsAaronic Priesthood quorums help young men make and keep sacred covenants and deepen their conversion to Jesus Christ and His gospel.\n"
     ]
    }
   ],
   "source": [
    "#keyword search\n",
    "r = search_client.search(search_query, top=5)\n",
    "for doc in r:\n",
    "    if \"Jesus\" in doc[\"content\"]:\n",
    "        content = doc[\"content\"].replace(\"\\n\", \" \")[:1000]\n",
    "        print(f\"score: {doc['@search.score']}. {content}\")"
   ]
  },
  {
   "cell_type": "code",
   "execution_count": 34,
   "metadata": {},
   "outputs": [
    {
     "name": "stdout",
     "output_type": "stream",
     "text": [
      "score: 0.027973394840955734, reranker: None. 17.1. Principles of Christlike Teaching   17.1. Principles of Christlike TeachingEffective gospel teaching helps people grow in their testimonies and their faith in Heavenly Father and Jesus Christ.   17.1.1. Love Those You TeachEffective gospel teaching helps people grow in their testimonies and their faith in Heavenly Father and Jesus Christ.   17.1.2. Teach by the SpiritEffective gospel teaching helps people grow in their testimonies and their faith in Heavenly Father and Jesus Christ.\n",
      "score: 0.026012461632490158, reranker: None. God’s Work of Salvation and Exaltation   Living the Gospel of Jesus Christ   16. Living the Gospel of Jesus ChristWe live the gospel as we exercise faith in Jesus Christ, repent daily, make covenants with God as we receive the ordinances of salvation and exaltation, and endure to the end by keeping those covenants.  17. Teaching the Gospel   17. Teaching the GospelEffective gospel teaching helps people grow in their testimonies and their faith in Heavenly Father and Jesus Christ.\n",
      "score: 0.022557269781827927, reranker: None. Doctrinal Foundation   1. God’s Plan and Your Role in His Work of Salvation and Exaltation   1.0. IntroductionThis chapter will help you gain a vision of God’s plan of happiness, His work of salvation and exaltation, and the purpose of The Church of Jesus Christ of Latter-day Saints.   1.1. God’s Plan of HappinessThis chapter will help you gain a vision of God’s plan of happiness, His work of salvation and exaltation, and the purpose of The Church of Jesus Christ of Latter-day Saints.\n",
      "score: 0.021963562816381454, reranker: None. 32.2.2. Help a Person Access the Redeeming Power of Jesus Christ through RepentanceMost repentance takes place between an individual, God, and those who have been affected by a person’s sins. However, sometimes a bishop or stake president needs to help Church members in their efforts to repent.\n",
      "score: 0.02126545086503029, reranker: None. 14.2.1. Living the Gospel of Jesus ChristMen and women who have not married or who are divorced or widowed make up a significant portion of Church membership. Leaders reach out to these members and include them in the work of the Church.   14.2.2. Caring for Those in NeedMen and women who have not married or who are divorced or widowed make up a significant portion of Church membership. Leaders reach out to these members and include them in the work of the Church.\n"
     ]
    }
   ],
   "source": [
    "r = search_client.search(search_query, top=5, vectors=[Vector(value=search_vector, k=50, fields=\"content_vector\")])\n",
    "for doc in r:\n",
    "    content = doc[\"content\"].replace(\"\\n\", \" \")[:1000]\n",
    "    print(f\"score: {doc['@search.score']}, reranker: {doc['@search.reranker_score']}. {content}\")"
   ]
  },
  {
   "cell_type": "code",
   "execution_count": 35,
   "metadata": {},
   "outputs": [
    {
     "name": "stdout",
     "output_type": "stream",
     "text": [
      "score: 0.015384615398943424, reranker: 2.584941864013672. 27.1.3. Members Who Have Physical DisabilitiesThe temple is the house of the Lord. It points us to our Savior, Jesus Christ. In temples, we participate in sacred ordinances and make covenants with Heavenly Father that bind us to Him and to our Savior. These covenants and ordinances prepare us to return to Heavenly Father’s presence and to be sealed together as families for eternity.\n",
      "score: 0.016393441706895828, reranker: 2.510263442993164. 18.10.4. Who Performs the OrdinanceOrdinances and blessings are sacred acts performed by the authority of the priesthood and in the name of Jesus Christ. As priesthood holders perform ordinances and blessings, they follow the Savior’s example of blessing others.\n",
      "score: 0.017401045188307762, reranker: 2.4976255893707275. 27.3.1. Who May Be Sealed in a TempleThe temple is the house of the Lord. It points us to our Savior, Jesus Christ. In temples, we participate in sacred ordinances and make covenants with Heavenly Father that bind us to Him and to our Savior. These covenants and ordinances prepare us to return to Heavenly Father’s presence and to be sealed together as families for eternity.\n",
      "score: 0.026012461632490158, reranker: 2.368183135986328. God’s Work of Salvation and Exaltation   Living the Gospel of Jesus Christ   16. Living the Gospel of Jesus ChristWe live the gospel as we exercise faith in Jesus Christ, repent daily, make covenants with God as we receive the ordinances of salvation and exaltation, and endure to the end by keeping those covenants.  17. Teaching the Gospel   17. Teaching the GospelEffective gospel teaching helps people grow in their testimonies and their faith in Heavenly Father and Jesus Christ.\n",
      "score: 0.01666666753590107, reranker: 2.3645451068878174. 18.12.1. Who Performs the OrdinanceOrdinances and blessings are sacred acts performed by the authority of the priesthood and in the name of Jesus Christ. As priesthood holders perform ordinances and blessings, they follow the Savior’s example of blessing others.\n"
     ]
    },
    {
     "ename": "",
     "evalue": "",
     "output_type": "error",
     "traceback": [
      "\u001b[1;31mThe Kernel crashed while executing code in the the current cell or a previous cell. Please review the code in the cell(s) to identify a possible cause of the failure. Click <a href='https://aka.ms/vscodeJupyterKernelCrash'>here</a> for more info. View Jupyter <a href='command:jupyter.viewOutput'>log</a> for further details."
     ]
    }
   ],
   "source": [
    "# hybrid retrieval + rerank \n",
    "r = search_client.search(\n",
    "        search_query,\n",
    "        top=5, \n",
    "        vectors=[Vector(value=search_vector, k=50, fields=\"content_vector\")],\n",
    "        query_type=\"semantic\",\n",
    "        semantic_configuration_name=\"config\",\n",
    "        query_language=\"en-us\")\n",
    "\n",
    "for doc in r:\n",
    "    content = doc[\"content\"].replace(\"\\n\", \" \")[:1000]\n",
    "    print(f\"score: {doc['@search.score']}, reranker: {doc['@search.reranker_score']}. {content}\")"
   ]
  }
 ],
 "metadata": {
  "kernelspec": {
   "display_name": "build-your-own-copilot",
   "language": "python",
   "name": "python3"
  },
  "language_info": {
   "codemirror_mode": {
    "name": "ipython",
    "version": 3
   },
   "file_extension": ".py",
   "mimetype": "text/x-python",
   "name": "python",
   "nbconvert_exporter": "python",
   "pygments_lexer": "ipython3",
   "version": "3.9.18"
  }
 },
 "nbformat": 4,
 "nbformat_minor": 2
}
