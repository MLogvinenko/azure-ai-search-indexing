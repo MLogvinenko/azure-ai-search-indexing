{
 "cells": [
  {
   "cell_type": "markdown",
   "metadata": {},
   "source": [
    "## 📚 Prerequisites\n",
    "\n",
    "Before running this notebook, ensure you have configured Azure AI services, set the appropriate configuration parameters, and set up a Conda environment to ensure reproducibility. You can find the setup instructions and how to create a Conda environment in the [REQUIREMENTS.md](REQUIREMENTS.md) file.\n",
    "\n",
    "## 📋 Table of Contents\n",
    "\n",
    "This notebook guides you through the following sections:\n",
    "\n",
    "\n",
    "1. [**Indexing Vectorized Content from Multiple Sources**](#index-multiple-sources)\n",
    "    - Chunk, vectorize, and index extracted metadata from documents sourced from various locations. \n",
    "\n",
    "    > %pip install azure-search-documents==11.4.0"
   ]
  },
  {
   "cell_type": "code",
   "execution_count": 1,
   "metadata": {},
   "outputs": [
    {
     "name": "stdout",
     "output_type": "stream",
     "text": [
      "Directory changed to C:\\Users\\pablosal\\Desktop\\gbbai-azure-ai-search-indexing\n"
     ]
    }
   ],
   "source": [
    "import os\n",
    "from tenacity import retry, wait_random_exponential, stop_after_attempt\n",
    "from dotenv import load_dotenv\n",
    "import os\n",
    "import json\n",
    "import copy\n",
    "from azure.core.credentials import AzureKeyCredential\n",
    "from azure.search.documents import SearchClient\n",
    "from azure.search.documents.indexes import SearchIndexClient\n",
    "from azure.search.documents.indexes.models import (\n",
    "    ExhaustiveKnnAlgorithmConfiguration,\n",
    "    ExhaustiveKnnParameters,\n",
    "    SearchIndex,\n",
    "    SearchField,\n",
    "    SearchFieldDataType,\n",
    "    SimpleField,\n",
    "    SearchableField,\n",
    "    SearchIndex,\n",
    "    SemanticConfiguration,\n",
    "    SemanticPrioritizedFields,\n",
    "    SemanticField,\n",
    "    SearchField,\n",
    "    VectorSearch,\n",
    "    SemanticSearch,\n",
    "    HnswAlgorithmConfiguration,\n",
    "    HnswParameters,\n",
    "    VectorSearch,\n",
    "    VectorSearchAlgorithmKind,\n",
    "    VectorSearchProfile,\n",
    "    SearchIndex,\n",
    "    SearchField,\n",
    "    SearchFieldDataType,\n",
    "    SimpleField,\n",
    "    SearchableField,\n",
    "    VectorSearch,\n",
    "    ExhaustiveKnnParameters,\n",
    "    SearchIndex,\n",
    "    SearchField,\n",
    "    SearchFieldDataType,\n",
    "    ComplexField,\n",
    "    SimpleField,\n",
    "    SearchableField,\n",
    "    SearchIndex,\n",
    "    SemanticConfiguration,\n",
    "    SemanticField,\n",
    "    SearchField,\n",
    "    VectorSearch,\n",
    "    HnswParameters,\n",
    "    VectorSearch,\n",
    "    VectorSearchAlgorithmKind,\n",
    "    VectorSearchAlgorithmMetric,\n",
    "    VectorSearchProfile,\n",
    ")\n",
    "\n",
    "# Load environment variables from .env file\n",
    "load_dotenv()\n",
    "\n",
    "# Define the target directory\n",
    "target_directory = r\"C:\\Users\\pablosal\\Desktop\\gbbai-azure-ai-search-indexing\"  # change your directory here\n",
    "\n",
    "# Check if the directory exists\n",
    "if os.path.exists(target_directory):\n",
    "    # Change the current working directory\n",
    "    os.chdir(target_directory)\n",
    "    print(f\"Directory changed to {os.getcwd()}\")\n",
    "else:\n",
    "    print(f\"Directory {target_directory} does not exist.\")"
   ]
  },
  {
   "cell_type": "markdown",
   "metadata": {},
   "source": [
    "## 📚 Indexing Vectorized Content from Multiple Sources\n",
    "\n",
    "Here are some resources:\n",
    "\n",
    "- [C# tutorial indexing multiple Azure data sources - Azure AI Search | Microsoft Learn](https://learn.microsoft.com/en-us/azure/search/search-howto-index-csv-blobs): An example in C#, but you can replicate the same code with Python SDK.\n",
    "\n",
    "- [Vector Search with Azure SQL Database - Azure SQL Devs’ Corner (microsoft.com)](https://devblogs.microsoft.com/azure-sql/vector-search-with-azure-sql-database/): A tutorial for Azure SQL ingestion with integrated vectorization.\n",
    "\n",
    "- [How to index CSV files](https://learn.microsoft.com/en-us/azure/search/search-howto-index-csv-blobs): A tutorial on indexing CSV files."
   ]
  },
  {
   "cell_type": "markdown",
   "metadata": {},
   "source": [
    "## Overview of Source Data \n",
    "\n",
    "The objective involves executing search operations within a composite data landscape, specifically focusing on employee performance evaluations and associated metadata. This multifaceted dataset comprises:\n",
    "\n",
    " + **Performance Reviews Stored in Cosmos DB**: These are detailed textual documents containing qualitative assessments of employee performance. They are persisted within Azure Cosmos DB, a globally distributed, multi-model database service. This allows for efficient retrieval and analysis of unstructured text data, leveraging Cosmos DB's robust querying capabilities and scalable storage solutions.\n",
    "\n",
    "- **Employee Metadata in Blob Storage**: Complementary employee data, structured in CSV format, resides in Azure Blob Storage. This component of the dataset includes tabular data that encapsulates key employee attributes and metrics not covered in performance reviews. "
   ]
  },
  {
   "cell_type": "markdown",
   "metadata": {},
   "source": [
    "### Indexing Data In Cosmos DB"
   ]
  },
  {
   "cell_type": "code",
   "execution_count": 2,
   "metadata": {},
   "outputs": [
    {
     "name": "stderr",
     "output_type": "stream",
     "text": [
      "2024-04-01 13:46:05,528 - micro - MainProcess - INFO     Database 'gbbai-chat-with-your-employees-review' created successfully. (cosmosIndexing.py:create_database:59)\n",
      "2024-04-01 13:46:05,613 - micro - MainProcess - INFO     Container 'gbbai-invoices' in database 'gbbai-chat-with-your-employees-review' created successfully. (cosmosIndexing.py:create_container:103)\n"
     ]
    }
   ],
   "source": [
    "from src.indexers.cosmosIndexing import CosmosDBIndexer\n",
    "\n",
    "cosmos_client = CosmosDBIndexer()\n",
    "cosmos_client.create_database(\"gbbai-chat-with-your-employees-review\")\n",
    "unique_key_policy = {\"uniqueKeys\": [{\"paths\": [\"/EmployeeId\"]}]}\n",
    "\n",
    "conflict_resolution_policy = {\n",
    "    \"mode\": \"lastWriterWins\",\n",
    "    \"conflictResolutionPath\": \"/EmployeeId\",\n",
    "}\n",
    "\n",
    "indexing_policy = {\n",
    "    \"indexingMode\": \"consistent\",\n",
    "    \"automatic\": True,\n",
    "    \"includedPaths\": [\n",
    "        {\n",
    "            \"path\": \"/*\",\n",
    "            \"indexes\": [\n",
    "                {\"kind\": \"Range\", \"dataType\": \"Number\", \"precision\": -1},\n",
    "                {\"kind\": \"Range\", \"dataType\": \"String\", \"precision\": -1},\n",
    "            ],\n",
    "        }\n",
    "    ],\n",
    "}\n",
    "\n",
    "default_ttl = None\n",
    "analytical_storage_ttl = None\n",
    "\n",
    "cosmos_client.create_container(\n",
    "    \"gbbai-invoices\",\n",
    "    partition_key=\"/EmployeeId\",\n",
    "    throughput=None,\n",
    "    unique_key_policy=unique_key_policy,\n",
    "    conflict_resolution_policy=conflict_resolution_policy,\n",
    "    indexing_policy=indexing_policy,\n",
    "    default_ttl=default_ttl,\n",
    "    analytical_storage_ttl=analytical_storage_ttl,\n",
    ")"
   ]
  },
  {
   "cell_type": "code",
   "execution_count": 3,
   "metadata": {},
   "outputs": [],
   "source": [
    "review_data = [\n",
    "    {\n",
    "        \"EmployeeId\": \"E02387\",\n",
    "        \"name\": \"Emily Davis\",\n",
    "        \"position\": \"Sr. Manager, IT, Research & Development\",\n",
    "        \"date\": \"2024-04-01\",\n",
    "        \"content\": \"Emily has consistently demonstrated exceptional leadership and technical expertise. Her ability to drive innovation and lead her team through complex projects has significantly contributed to the department's achievements. Under Emily's leadership, her team successfully launched three major projects that exceeded performance expectations, delivered on time and within budget. Emily's strengths lie in her strategic thinking, leadership, and technical acumen. She effectively manages resources and fosters a collaborative environment. Emily could enhance her impact by delegating more operational tasks to her team members, freeing up her time for strategic initiatives. Emily could benefit from executive leadership training and participating in conferences focusing on emerging technologies. Emily's goals should include leading her team to develop an innovative product prototype and working on enhancing cross-departmental collaboration.\",\n",
    "    },\n",
    "    {\n",
    "        \"EmployeeId\": \"E04105\",\n",
    "        \"name\": \"Theodore Dinh\",\n",
    "        \"position\": \"Technical Architect, IT, Manufacturing\",\n",
    "        \"date\": \"2024-04-01\",\n",
    "        \"content\": \"Theodore has showcased remarkable expertise and dedication in his role as Technical Architect. His comprehensive knowledge and innovative approach to system architecture have been crucial in enhancing the efficiency and reliability of our manufacturing systems. Theodore's major accomplishment this period was the redesign of our manufacturing system's architecture, resulting in a 20% improvement in system efficiency and a significant reduction in downtime. His deep technical knowledge, innovative problem-solving skills, and ability to work under pressure are Theodore's most notable strengths. Expanding his collaboration with other departments could enhance project outcomes and innovation. Pursuing advanced certifications in emerging technologies relevant to manufacturing IT systems and attending global technology conferences could provide insights into industry trends. Theodore's goals for the next period should aim to lead a cross-functional project integrating IoT technologies into our manufacturing processes and mentoring junior team members.\",\n",
    "    },\n",
    "]"
   ]
  },
  {
   "cell_type": "code",
   "execution_count": 4,
   "metadata": {},
   "outputs": [
    {
     "name": "stderr",
     "output_type": "stream",
     "text": [
      "2024-04-01 13:46:05,671 - micro - MainProcess - INFO     Processing data item 1 of 2 (cosmosIndexing.py:index_data:123)\n",
      "2024-04-01 13:46:05,672 - micro - MainProcess - INFO     Data before preprocessing: {'EmployeeId': 'E02387', 'name': 'Emily Davis', 'position': 'Sr. Manager, IT, Research & Development', 'date': '2024-04-01', 'content': \"Emily has consistently demonstrated exceptional leadership and technical expertise. Her ability to drive innovation and lead her team through complex projects has significantly contributed to the department's achievements. Under Emily's leadership, her team successfully launched three major projects that exceeded performance expectations, delivered on time and within budget. Emily's strengths lie in her strategic thinking, leadership, and technical acumen. She effectively manages resources and fosters a collaborative environment. Emily could enhance her impact by delegating more operational tasks to her team members, freeing up her time for strategic initiatives. Emily could benefit from executive leadership training and participating in conferences focusing on emerging technologies. Emily's goals should include leading her team to develop an innovative product prototype and working on enhancing cross-departmental collaboration.\"} (cosmosIndexing.py:preprocess_data:163)\n",
      "2024-04-01 13:46:05,673 - micro - MainProcess - INFO     Data after preprocessing: {'EmployeeId': 'E02387', 'name': 'Emily Davis', 'position': 'Sr. Manager, IT, Research & Development', 'date': '2024-04-01', 'content': \"Emily has consistently demonstrated exceptional leadership and technical expertise. Her ability to drive innovation and lead her team through complex projects has significantly contributed to the department's achievements. Under Emily's leadership, her team successfully launched three major projects that exceeded performance expectations, delivered on time and within budget. Emily's strengths lie in her strategic thinking, leadership, and technical acumen. She effectively manages resources and fosters a collaborative environment. Emily could enhance her impact by delegating more operational tasks to her team members, freeing up her time for strategic initiatives. Emily could benefit from executive leadership training and participating in conferences focusing on emerging technologies. Emily's goals should include leading her team to develop an innovative product prototype and working on enhancing cross-departmental collaboration.\"} (cosmosIndexing.py:preprocess_data:177)\n",
      "2024-04-01 13:46:05,675 - micro - MainProcess - INFO     Duplicating key 'EmployeeId' as 'id' (cosmosIndexing.py:index_data:130)\n",
      "2024-04-01 13:46:05,676 - micro - MainProcess - INFO     Upserting data item into Cosmos DB (cosmosIndexing.py:index_data:138)\n",
      "2024-04-01 13:46:05,782 - micro - MainProcess - INFO     Data indexed successfully with id: E02387 (cosmosIndexing.py:index_data:140)\n",
      "2024-04-01 13:46:05,783 - micro - MainProcess - INFO     Processing data item 2 of 2 (cosmosIndexing.py:index_data:123)\n",
      "2024-04-01 13:46:05,785 - micro - MainProcess - INFO     Data before preprocessing: {'EmployeeId': 'E04105', 'name': 'Theodore Dinh', 'position': 'Technical Architect, IT, Manufacturing', 'date': '2024-04-01', 'content': \"Theodore has showcased remarkable expertise and dedication in his role as Technical Architect. His comprehensive knowledge and innovative approach to system architecture have been crucial in enhancing the efficiency and reliability of our manufacturing systems. Theodore's major accomplishment this period was the redesign of our manufacturing system's architecture, resulting in a 20% improvement in system efficiency and a significant reduction in downtime. His deep technical knowledge, innovative problem-solving skills, and ability to work under pressure are Theodore's most notable strengths. Expanding his collaboration with other departments could enhance project outcomes and innovation. Pursuing advanced certifications in emerging technologies relevant to manufacturing IT systems and attending global technology conferences could provide insights into industry trends. Theodore's goals for the next period should aim to lead a cross-functional project integrating IoT technologies into our manufacturing processes and mentoring junior team members.\"} (cosmosIndexing.py:preprocess_data:163)\n",
      "2024-04-01 13:46:05,787 - micro - MainProcess - INFO     Data after preprocessing: {'EmployeeId': 'E04105', 'name': 'Theodore Dinh', 'position': 'Technical Architect, IT, Manufacturing', 'date': '2024-04-01', 'content': \"Theodore has showcased remarkable expertise and dedication in his role as Technical Architect. His comprehensive knowledge and innovative approach to system architecture have been crucial in enhancing the efficiency and reliability of our manufacturing systems. Theodore's major accomplishment this period was the redesign of our manufacturing system's architecture, resulting in a 20% improvement in system efficiency and a significant reduction in downtime. His deep technical knowledge, innovative problem-solving skills, and ability to work under pressure are Theodore's most notable strengths. Expanding his collaboration with other departments could enhance project outcomes and innovation. Pursuing advanced certifications in emerging technologies relevant to manufacturing IT systems and attending global technology conferences could provide insights into industry trends. Theodore's goals for the next period should aim to lead a cross-functional project integrating IoT technologies into our manufacturing processes and mentoring junior team members.\"} (cosmosIndexing.py:preprocess_data:177)\n",
      "2024-04-01 13:46:05,788 - micro - MainProcess - INFO     Duplicating key 'EmployeeId' as 'id' (cosmosIndexing.py:index_data:130)\n",
      "2024-04-01 13:46:05,790 - micro - MainProcess - INFO     Upserting data item into Cosmos DB (cosmosIndexing.py:index_data:138)\n",
      "2024-04-01 13:46:05,813 - micro - MainProcess - INFO     Data indexed successfully with id: E04105 (cosmosIndexing.py:index_data:140)\n",
      "2024-04-01 13:46:05,814 - micro - MainProcess - INFO     Final number of records indexed: 2 (cosmosIndexing.py:index_data:152)\n"
     ]
    },
    {
     "data": {
      "text/plain": [
       "[{'EmployeeId': 'E02387',\n",
       "  'name': 'Emily Davis',\n",
       "  'position': 'Sr. Manager, IT, Research & Development',\n",
       "  'date': '2024-04-01',\n",
       "  'content': \"Emily has consistently demonstrated exceptional leadership and technical expertise. Her ability to drive innovation and lead her team through complex projects has significantly contributed to the department's achievements. Under Emily's leadership, her team successfully launched three major projects that exceeded performance expectations, delivered on time and within budget. Emily's strengths lie in her strategic thinking, leadership, and technical acumen. She effectively manages resources and fosters a collaborative environment. Emily could enhance her impact by delegating more operational tasks to her team members, freeing up her time for strategic initiatives. Emily could benefit from executive leadership training and participating in conferences focusing on emerging technologies. Emily's goals should include leading her team to develop an innovative product prototype and working on enhancing cross-departmental collaboration.\",\n",
       "  'id': 'E02387',\n",
       "  '_rid': 'QlsnAOGoUOEBAAAAAAAAAA==',\n",
       "  '_self': 'dbs/QlsnAA==/colls/QlsnAOGoUOE=/docs/QlsnAOGoUOEBAAAAAAAAAA==/',\n",
       "  '_etag': '\"00003a3a-0000-0400-0000-660b00ed0000\"',\n",
       "  '_attachments': 'attachments/',\n",
       "  '_ts': 1711997165},\n",
       " {'EmployeeId': 'E04105',\n",
       "  'name': 'Theodore Dinh',\n",
       "  'position': 'Technical Architect, IT, Manufacturing',\n",
       "  'date': '2024-04-01',\n",
       "  'content': \"Theodore has showcased remarkable expertise and dedication in his role as Technical Architect. His comprehensive knowledge and innovative approach to system architecture have been crucial in enhancing the efficiency and reliability of our manufacturing systems. Theodore's major accomplishment this period was the redesign of our manufacturing system's architecture, resulting in a 20% improvement in system efficiency and a significant reduction in downtime. His deep technical knowledge, innovative problem-solving skills, and ability to work under pressure are Theodore's most notable strengths. Expanding his collaboration with other departments could enhance project outcomes and innovation. Pursuing advanced certifications in emerging technologies relevant to manufacturing IT systems and attending global technology conferences could provide insights into industry trends. Theodore's goals for the next period should aim to lead a cross-functional project integrating IoT technologies into our manufacturing processes and mentoring junior team members.\",\n",
       "  'id': 'E04105',\n",
       "  '_rid': 'QlsnAOGoUOECAAAAAAAAAA==',\n",
       "  '_self': 'dbs/QlsnAA==/colls/QlsnAOGoUOE=/docs/QlsnAOGoUOECAAAAAAAAAA==/',\n",
       "  '_etag': '\"00003b3a-0000-0400-0000-660b00ed0000\"',\n",
       "  '_attachments': 'attachments/',\n",
       "  '_ts': 1711997165}]"
      ]
     },
     "execution_count": 4,
     "metadata": {},
     "output_type": "execute_result"
    }
   ],
   "source": [
    "cosmos_client.index_data(data_list=review_data, id_key=\"EmployeeId\")"
   ]
  },
  {
   "cell_type": "markdown",
   "metadata": {},
   "source": [
    "### Retrieving Revies from Cosmos DB"
   ]
  },
  {
   "cell_type": "code",
   "execution_count": 5,
   "metadata": {},
   "outputs": [],
   "source": [
    "query = \"SELECT * FROM c WHERE c.date >= '2021-01-01'\""
   ]
  },
  {
   "cell_type": "code",
   "execution_count": 6,
   "metadata": {},
   "outputs": [
    {
     "name": "stderr",
     "output_type": "stream",
     "text": [
      "2024-04-01 13:46:05,895 - micro - MainProcess - INFO     Query executed successfully. Retrieved 2 items. (cosmosIndexing.py:execute_query:196)\n"
     ]
    }
   ],
   "source": [
    "data = cosmos_client.execute_query(query)"
   ]
  },
  {
   "cell_type": "markdown",
   "metadata": {},
   "source": [
    "### Retrieving Structure Data from Blob Storage"
   ]
  },
  {
   "cell_type": "code",
   "execution_count": 7,
   "metadata": {},
   "outputs": [],
   "source": [
    "from src.extractors.blob_data_extractors import AzureBlobDataExtractor\n",
    "\n",
    "blob_extractor = AzureBlobDataExtractor()"
   ]
  },
  {
   "cell_type": "code",
   "execution_count": 8,
   "metadata": {},
   "outputs": [
    {
     "data": {
      "text/html": [
       "<div>\n",
       "<style scoped>\n",
       "    .dataframe tbody tr th:only-of-type {\n",
       "        vertical-align: middle;\n",
       "    }\n",
       "\n",
       "    .dataframe tbody tr th {\n",
       "        vertical-align: top;\n",
       "    }\n",
       "\n",
       "    .dataframe thead th {\n",
       "        text-align: right;\n",
       "    }\n",
       "</style>\n",
       "<table border=\"1\" class=\"dataframe\">\n",
       "  <thead>\n",
       "    <tr style=\"text-align: right;\">\n",
       "      <th></th>\n",
       "      <th>EEID</th>\n",
       "      <th>Full Name</th>\n",
       "      <th>Job Title</th>\n",
       "      <th>Department</th>\n",
       "      <th>Business Unit</th>\n",
       "      <th>Gender</th>\n",
       "      <th>Ethnicity</th>\n",
       "      <th>Age</th>\n",
       "      <th>Hire Date</th>\n",
       "      <th>Annual Salary</th>\n",
       "      <th>Bonus %</th>\n",
       "      <th>Country</th>\n",
       "      <th>City</th>\n",
       "      <th>Exit Date</th>\n",
       "    </tr>\n",
       "  </thead>\n",
       "  <tbody>\n",
       "    <tr>\n",
       "      <th>0</th>\n",
       "      <td>E02387</td>\n",
       "      <td>Emily Davis</td>\n",
       "      <td>Sr. Manger</td>\n",
       "      <td>IT</td>\n",
       "      <td>Research &amp; Development</td>\n",
       "      <td>Female</td>\n",
       "      <td>Black</td>\n",
       "      <td>55</td>\n",
       "      <td>4/8/2016</td>\n",
       "      <td>$141,604</td>\n",
       "      <td>15%</td>\n",
       "      <td>United States</td>\n",
       "      <td>Seattle</td>\n",
       "      <td>10/16/2021</td>\n",
       "    </tr>\n",
       "    <tr>\n",
       "      <th>1</th>\n",
       "      <td>E04105</td>\n",
       "      <td>Theodore Dinh</td>\n",
       "      <td>Technical Architect</td>\n",
       "      <td>IT</td>\n",
       "      <td>Manufacturing</td>\n",
       "      <td>Male</td>\n",
       "      <td>Asian</td>\n",
       "      <td>59</td>\n",
       "      <td>11/29/1997</td>\n",
       "      <td>$99,975</td>\n",
       "      <td>0%</td>\n",
       "      <td>China</td>\n",
       "      <td>Chongqing</td>\n",
       "      <td>NaN</td>\n",
       "    </tr>\n",
       "    <tr>\n",
       "      <th>2</th>\n",
       "      <td>E02572</td>\n",
       "      <td>Luna Sanders</td>\n",
       "      <td>Director</td>\n",
       "      <td>Finance</td>\n",
       "      <td>Speciality Products</td>\n",
       "      <td>Female</td>\n",
       "      <td>Caucasian</td>\n",
       "      <td>50</td>\n",
       "      <td>10/26/2006</td>\n",
       "      <td>$163,099</td>\n",
       "      <td>20%</td>\n",
       "      <td>United States</td>\n",
       "      <td>Chicago</td>\n",
       "      <td>NaN</td>\n",
       "    </tr>\n",
       "    <tr>\n",
       "      <th>3</th>\n",
       "      <td>E02832</td>\n",
       "      <td>Penelope Jordan</td>\n",
       "      <td>Computer Systems Manager</td>\n",
       "      <td>IT</td>\n",
       "      <td>Manufacturing</td>\n",
       "      <td>Female</td>\n",
       "      <td>Caucasian</td>\n",
       "      <td>26</td>\n",
       "      <td>9/27/2019</td>\n",
       "      <td>$84,913</td>\n",
       "      <td>7%</td>\n",
       "      <td>United States</td>\n",
       "      <td>Chicago</td>\n",
       "      <td>NaN</td>\n",
       "    </tr>\n",
       "    <tr>\n",
       "      <th>4</th>\n",
       "      <td>E01639</td>\n",
       "      <td>Austin Vo</td>\n",
       "      <td>Sr. Analyst</td>\n",
       "      <td>Finance</td>\n",
       "      <td>Manufacturing</td>\n",
       "      <td>Male</td>\n",
       "      <td>Asian</td>\n",
       "      <td>55</td>\n",
       "      <td>11/20/1995</td>\n",
       "      <td>$95,409</td>\n",
       "      <td>0%</td>\n",
       "      <td>United States</td>\n",
       "      <td>Phoenix</td>\n",
       "      <td>NaN</td>\n",
       "    </tr>\n",
       "  </tbody>\n",
       "</table>\n",
       "</div>"
      ],
      "text/plain": [
       "     EEID        Full Name                 Job Title Department  \\\n",
       "0  E02387      Emily Davis                Sr. Manger         IT   \n",
       "1  E04105    Theodore Dinh       Technical Architect         IT   \n",
       "2  E02572     Luna Sanders                  Director    Finance   \n",
       "3  E02832  Penelope Jordan  Computer Systems Manager         IT   \n",
       "4  E01639        Austin Vo               Sr. Analyst    Finance   \n",
       "\n",
       "            Business Unit  Gender  Ethnicity  Age   Hire Date Annual Salary  \\\n",
       "0  Research & Development  Female      Black   55    4/8/2016     $141,604    \n",
       "1           Manufacturing    Male      Asian   59  11/29/1997      $99,975    \n",
       "2     Speciality Products  Female  Caucasian   50  10/26/2006     $163,099    \n",
       "3           Manufacturing  Female  Caucasian   26   9/27/2019      $84,913    \n",
       "4           Manufacturing    Male      Asian   55  11/20/1995      $95,409    \n",
       "\n",
       "  Bonus %        Country       City   Exit Date  \n",
       "0    15%   United States    Seattle  10/16/2021  \n",
       "1     0%           China  Chongqing         NaN  \n",
       "2    20%   United States    Chicago         NaN  \n",
       "3     7%   United States    Chicago         NaN  \n",
       "4     0%   United States    Phoenix         NaN  "
      ]
     },
     "execution_count": 8,
     "metadata": {},
     "output_type": "execute_result"
    }
   ],
   "source": [
    "df = blob_extractor.read_csv_from_blob(\n",
    "    blob_name=\"Employee Sample Data.csv\",\n",
    "    container_name=\"testretrieval\",\n",
    "    sep=\",\",\n",
    "    encoding=\"ISO-8859-1\",\n",
    "    header=0,\n",
    ")\n",
    "df.head()"
   ]
  },
  {
   "cell_type": "markdown",
   "metadata": {},
   "source": [
    "## Creation of Index"
   ]
  },
  {
   "cell_type": "code",
   "execution_count": 9,
   "metadata": {},
   "outputs": [],
   "source": [
    "# Set the service endpoint and API key from the environment\n",
    "# Create an SDK client\n",
    "endpoint = os.environ[\"AZURE_AI_SEARCH_SERVICE_ENDPOINT\"]\n",
    "\n",
    "admin_documents_index_client = SearchIndexClient(\n",
    "    endpoint=endpoint,\n",
    "    index_name=os.environ[\"AZURE_SEARCH_INDEX_NAME_EMPLOYEES\"],\n",
    "    credential=AzureKeyCredential(os.environ[\"AZURE_SEARCH_ADMIN_KEY\"]),\n",
    ")"
   ]
  },
  {
   "cell_type": "markdown",
   "metadata": {},
   "source": [
    "In Azure Cognitive Search:\n",
    "\n",
    "- `SimpleField` is used for fields that are filterable, sortable, or scorable but not full-text searchable. It's ideal for identifiers or timestamps.\n",
    "- `SearchableField` is full-text searchable and can be used in filters, sorting, or scoring. It's suitable for text that you want to search within, like product descriptions or blog content.\n",
    "\n",
    "Please refer to the notebook [01-creation-indexes.ipynb](01-creation-indexes.ipynb) for detailed information and steps on how to create Azure AI Search Indexes. "
   ]
  },
  {
   "cell_type": "code",
   "execution_count": 10,
   "metadata": {},
   "outputs": [],
   "source": [
    "combined_index_fields = [\n",
    "    # The 'id' field now serves as the primary key for each record, unique across the entire index.\n",
    "    SimpleField(name=\"id\", type=SearchFieldDataType.String, key=True),\n",
    "    # 'ParentId' holds the concatenation of the original document ID and the Cosmos DB ID, identifying the source document for each chunk.\n",
    "    SimpleField(name=\"ParentId\", type=SearchFieldDataType.String, filterable=True),\n",
    "    # Searchable field for text analysis and queries, particularly the content of documents.\n",
    "    SearchableField(name=\"content\", type=SearchFieldDataType.String),\n",
    "    # Vector field for semantic search capabilities on the document content.\n",
    "    SearchField(\n",
    "        name=\"content_vector\",\n",
    "        type=SearchFieldDataType.Collection(SearchFieldDataType.Single),\n",
    "        searchable=True,\n",
    "        vector_search_dimensions=1536,\n",
    "        vector_search_profile_name=\"myHnswProfile\",\n",
    "    ),\n",
    "    # Metadata fields extracted from the structured CSV data.\n",
    "    SearchableField(name=\"FullName\", type=SearchFieldDataType.String),\n",
    "    SimpleField(name=\"EmployeeId\", type=SearchFieldDataType.String, filterable=True),\n",
    "    SimpleField(name=\"Department\", type=SearchFieldDataType.String, filterable=True),\n",
    "    SimpleField(name=\"JobTitle\", type=SearchFieldDataType.String, filterable=True),\n",
    "    SimpleField(name=\"BusinessUnit\", type=SearchFieldDataType.String, filterable=True),\n",
    "    SimpleField(\n",
    "        name=\"Gender\", type=SearchFieldDataType.String, filterable=True, facetable=True\n",
    "    ),\n",
    "    SimpleField(\n",
    "        name=\"Ethnicity\",\n",
    "        type=SearchFieldDataType.String,\n",
    "        filterable=True,\n",
    "        facetable=True,\n",
    "    ),\n",
    "    SimpleField(\n",
    "        name=\"Age\", type=SearchFieldDataType.Int32, filterable=True, sortable=True\n",
    "    ),\n",
    "    SimpleField(\n",
    "        name=\"AnnualSalary\",\n",
    "        type=SearchFieldDataType.Double,\n",
    "        filterable=True,\n",
    "        sortable=True,\n",
    "    ),\n",
    "    SimpleField(\n",
    "        name=\"BonusPercent\",\n",
    "        type=SearchFieldDataType.Double,\n",
    "        filterable=True,\n",
    "        sortable=True,\n",
    "    ),\n",
    "    SimpleField(\n",
    "        name=\"Country\", type=SearchFieldDataType.String, filterable=True, facetable=True\n",
    "    ),\n",
    "    SimpleField(\n",
    "        name=\"City\", type=SearchFieldDataType.String, filterable=True, facetable=True\n",
    "    ),\n",
    "]"
   ]
  },
  {
   "cell_type": "code",
   "execution_count": 11,
   "metadata": {},
   "outputs": [],
   "source": [
    "# Configure the vector search configuration\n",
    "vector_search = VectorSearch(\n",
    "    algorithms=[\n",
    "        HnswAlgorithmConfiguration(\n",
    "            name=\"myHnsw\",\n",
    "            kind=VectorSearchAlgorithmKind.HNSW,\n",
    "            parameters=HnswParameters(\n",
    "                m=5,\n",
    "                ef_construction=300,\n",
    "                ef_search=400,\n",
    "                metric=VectorSearchAlgorithmMetric.COSINE,\n",
    "            ),\n",
    "        ),\n",
    "        ExhaustiveKnnAlgorithmConfiguration(\n",
    "            name=\"myExhaustiveKnn\",\n",
    "            kind=VectorSearchAlgorithmKind.EXHAUSTIVE_KNN,\n",
    "            parameters=ExhaustiveKnnParameters(\n",
    "                metric=VectorSearchAlgorithmMetric.COSINE\n",
    "            ),\n",
    "        ),\n",
    "    ],\n",
    "    profiles=[\n",
    "        VectorSearchProfile(\n",
    "            name=\"myHnswProfile\",\n",
    "            algorithm_configuration_name=\"myHnsw\",\n",
    "        ),\n",
    "        VectorSearchProfile(\n",
    "            name=\"myExhaustiveKnnProfile\",\n",
    "            algorithm_configuration_name=\"myExhaustiveKnn\",\n",
    "        ),\n",
    "    ],\n",
    ")"
   ]
  },
  {
   "cell_type": "code",
   "execution_count": 12,
   "metadata": {},
   "outputs": [],
   "source": [
    "semantic_config_combined_fields_index = SemanticConfiguration(\n",
    "    name=\"combined-index-fields-semantic-config\",\n",
    "    prioritized_fields=SemanticPrioritizedFields(\n",
    "        content_fields=[SemanticField(field_name=\"content\")],\n",
    "    ),\n",
    ")\n",
    "# Create the semantic settings with the configuration\n",
    "semantic_search_audio_images = SemanticSearch(\n",
    "    configurations=[semantic_config_combined_fields_index]\n",
    ")"
   ]
  },
  {
   "cell_type": "code",
   "execution_count": 13,
   "metadata": {},
   "outputs": [
    {
     "name": "stdout",
     "output_type": "stream",
     "text": [
      "Index employees-index-dev created\n"
     ]
    }
   ],
   "source": [
    "index = SearchIndex(\n",
    "    name=os.environ[\"AZURE_SEARCH_INDEX_NAME_EMPLOYEES\"],\n",
    "    fields=combined_index_fields,\n",
    "    vector_search=vector_search,\n",
    "    semantic_search=semantic_search_audio_images,\n",
    ")\n",
    "\n",
    "try:\n",
    "    result = admin_documents_index_client.create_or_update_index(index)\n",
    "    print(\"Index\", result.name, \"created\")\n",
    "except Exception as ex:\n",
    "    print(ex)"
   ]
  },
  {
   "cell_type": "markdown",
   "metadata": {},
   "source": [
    "## Integrating Multiple Data Sources for Azure AI Search Indexing\n",
    "\n",
    "In this section, we are implementing a custom logic to merge data from multiple sources. The purpose of this operation is to create a comprehensive dataset that can be indexed effectively by Azure AI Search.\n",
    "\n",
    "The process involves joining structured data (like CSV files) with unstructured data (like text files), and preparing this combined data for indexing. This includes converting data types, renaming columns, and generating necessary fields to match the schema of the Azure Search Index.\n",
    "\n",
    "Once the data is prepared, it is converted into a list of dictionaries, which is the format required for indexing in Azure AI Search using the push API. This allows us to leverage the full-text search capabilities of Azure AI, enabling users to perform advanced search queries on the data."
   ]
  },
  {
   "cell_type": "code",
   "execution_count": 14,
   "metadata": {},
   "outputs": [],
   "source": [
    "import pandas as pd\n",
    "from datetime import datetime\n",
    "\n",
    "# Data preparation\n",
    "cosmos_df = pd.DataFrame(data)\n",
    "df.rename(\n",
    "    columns={\n",
    "        \"EEID\": \"EmployeeId\",\n",
    "        \"Annual Salary\": \"AnnualSalary\",\n",
    "        \"Bonus %\": \"BonusPercent\",\n",
    "        \"Hire Date\": \"HireDate\",\n",
    "        \"Exit Date\": \"ExitDate\",\n",
    "    },\n",
    "    inplace=True,\n",
    ")\n",
    "csv_file_name = \"Employee_Sample_Data\"\n",
    "merged_df = pd.merge(cosmos_df, df, on=\"EmployeeId\", how=\"left\")\n",
    "\n",
    "# Convert the necessary columns to the correct data types\n",
    "merged_df[\"AnnualSalary\"] = (\n",
    "    merged_df[\"AnnualSalary\"].str.replace(\"$\", \"\").str.replace(\",\", \"\").astype(float)\n",
    ")\n",
    "merged_df[\"BonusPercent\"] = (\n",
    "    merged_df[\"BonusPercent\"].str.replace(\"%\", \"\").astype(float) / 100.0\n",
    ")\n",
    "# merged_df['HireDate'] = pd.to_datetime(merged_df['HireDate']).dt.strftime('%Y-%m-%dT%H:%M:%S')\n",
    "# merged_df['ExitDate'] = pd.to_datetime(merged_df['ExitDate']).dt.strftime('%Y-%m-%dT%H:%M:%S')\n",
    "\n",
    "# Generate 'ParentId'\n",
    "merged_df[\"ParentId\"] = merged_df[\"EmployeeId\"] + \"_\" + csv_file_name\n",
    "\n",
    "# Remove unnecessary Cosmos DB system keys and prepare fields for indexing\n",
    "merged_df.drop(\n",
    "    columns=[\n",
    "        \"_rid\",\n",
    "        \"_self\",\n",
    "        \"_etag\",\n",
    "        \"_attachments\",\n",
    "        \"_ts\",\n",
    "        \"HireDate\",\n",
    "        \"ExitDate\",\n",
    "        \"name\",\n",
    "        \"position\",\n",
    "        \"date\",\n",
    "    ],\n",
    "    inplace=True,\n",
    ")\n",
    "\n",
    "# Initialize 'id' and 'content_vector' for later population\n",
    "merged_df[\"id\"] = \"\"  # To be populated during vectorization and chunking\n",
    "merged_df[\"content_vector\"] = \"\"  # To be populated later\n",
    "\n",
    "# Rename columns to match index field names\n",
    "merged_df.rename(\n",
    "    columns={\n",
    "        \"Full Name\": \"FullName\",\n",
    "        \"Job Title\": \"JobTitle\",\n",
    "        \"Business Unit\": \"BusinessUnit\",\n",
    "    },\n",
    "    inplace=True,\n",
    ")\n",
    "\n",
    "# Convert the cleaned DataFrame back into a list of dictionaries for indexing\n",
    "final_data_for_indexing = merged_df.to_dict(orient=\"records\")"
   ]
  },
  {
   "cell_type": "code",
   "execution_count": 15,
   "metadata": {},
   "outputs": [
    {
     "data": {
      "text/plain": [
       "[{'EmployeeId': 'E02387',\n",
       "  'content': \"Emily has consistently demonstrated exceptional leadership and technical expertise. Her ability to drive innovation and lead her team through complex projects has significantly contributed to the department's achievements. Under Emily's leadership, her team successfully launched three major projects that exceeded performance expectations, delivered on time and within budget. Emily's strengths lie in her strategic thinking, leadership, and technical acumen. She effectively manages resources and fosters a collaborative environment. Emily could enhance her impact by delegating more operational tasks to her team members, freeing up her time for strategic initiatives. Emily could benefit from executive leadership training and participating in conferences focusing on emerging technologies. Emily's goals should include leading her team to develop an innovative product prototype and working on enhancing cross-departmental collaboration.\",\n",
       "  'id': '',\n",
       "  'FullName': 'Emily Davis',\n",
       "  'JobTitle': 'Sr. Manger',\n",
       "  'Department': 'IT',\n",
       "  'BusinessUnit': 'Research & Development',\n",
       "  'Gender': 'Female',\n",
       "  'Ethnicity': 'Black',\n",
       "  'Age': 55,\n",
       "  'AnnualSalary': 141604.0,\n",
       "  'BonusPercent': 0.15,\n",
       "  'Country': 'United States',\n",
       "  'City': 'Seattle',\n",
       "  'ParentId': 'E02387_Employee_Sample_Data',\n",
       "  'content_vector': ''},\n",
       " {'EmployeeId': 'E04105',\n",
       "  'content': \"Theodore has showcased remarkable expertise and dedication in his role as Technical Architect. His comprehensive knowledge and innovative approach to system architecture have been crucial in enhancing the efficiency and reliability of our manufacturing systems. Theodore's major accomplishment this period was the redesign of our manufacturing system's architecture, resulting in a 20% improvement in system efficiency and a significant reduction in downtime. His deep technical knowledge, innovative problem-solving skills, and ability to work under pressure are Theodore's most notable strengths. Expanding his collaboration with other departments could enhance project outcomes and innovation. Pursuing advanced certifications in emerging technologies relevant to manufacturing IT systems and attending global technology conferences could provide insights into industry trends. Theodore's goals for the next period should aim to lead a cross-functional project integrating IoT technologies into our manufacturing processes and mentoring junior team members.\",\n",
       "  'id': '',\n",
       "  'FullName': 'Theodore Dinh',\n",
       "  'JobTitle': 'Technical Architect',\n",
       "  'Department': 'IT',\n",
       "  'BusinessUnit': 'Manufacturing',\n",
       "  'Gender': 'Male',\n",
       "  'Ethnicity': 'Asian',\n",
       "  'Age': 59,\n",
       "  'AnnualSalary': 99975.0,\n",
       "  'BonusPercent': 0.0,\n",
       "  'Country': 'China',\n",
       "  'City': 'Chongqing',\n",
       "  'ParentId': 'E04105_Employee_Sample_Data',\n",
       "  'content_vector': ''}]"
      ]
     },
     "execution_count": 15,
     "metadata": {},
     "output_type": "execute_result"
    }
   ],
   "source": [
    "final_data_for_indexing"
   ]
  },
  {
   "cell_type": "markdown",
   "metadata": {},
   "source": [
    "## Chunk content, vectorize and Index "
   ]
  },
  {
   "cell_type": "code",
   "execution_count": 16,
   "metadata": {},
   "outputs": [],
   "source": [
    "search_client = SearchClient(\n",
    "    endpoint=endpoint,\n",
    "    index_name=os.environ[\"AZURE_SEARCH_INDEX_NAME_EMPLOYEES\"],\n",
    "    credential=AzureKeyCredential(os.environ[\"AZURE_SEARCH_ADMIN_KEY\"]),\n",
    ")"
   ]
  },
  {
   "cell_type": "code",
   "execution_count": 17,
   "metadata": {},
   "outputs": [],
   "source": [
    "# Set the service endpoint and API key from the environment\n",
    "# Create an SDK client\n",
    "import openai\n",
    "from openai import AzureOpenAI\n",
    "from langchain.text_splitter import RecursiveCharacterTextSplitter\n",
    "\n",
    "openai.api_key = os.environ[\"AZURE_AOAI_API_KEY\"]\n",
    "openai.api_base = os.environ[\"AZURE_AOAI_API_ENDPOINT\"]\n",
    "openai.api_type = \"azure\"\n",
    "openai.api_version = \"2023-05-15\"\n",
    "\n",
    "model = os.environ[\"AZURE_AOAI_EMBEDDING_DEPLOYMENT_ID\"]\n",
    "\n",
    "client = AzureOpenAI(\n",
    "    api_version=openai.api_version,\n",
    "    azure_endpoint=openai.api_base,\n",
    "    api_key=openai.api_key,\n",
    ")\n",
    "\n",
    "# This is in characters and there is an avg of 4 chars / token\n",
    "text_splitter = RecursiveCharacterTextSplitter(\n",
    "    chunk_size=500,\n",
    "    chunk_overlap=150,\n",
    ")"
   ]
  },
  {
   "cell_type": "code",
   "execution_count": 18,
   "metadata": {},
   "outputs": [],
   "source": [
    "# Download and process files from a set of folders within a SharePoint site.\n",
    "\n",
    "n = 100  # max batch size (number of docs) to upload at a time\n",
    "total_docs_uploaded = 0"
   ]
  },
  {
   "cell_type": "code",
   "execution_count": 19,
   "metadata": {},
   "outputs": [
    {
     "name": "stdout",
     "output_type": "stream",
     "text": [
      "Total Documents to Upload: 6\n",
      "Uploading batch of 6 documents...\n",
      "Upload of batch of 6 documents succeeded.\n"
     ]
    }
   ],
   "source": [
    "# Split up a list into chunks - this is used to ensure a limited number of items sent to Azure AI Search\n",
    "def divide_chunks(l, n):\n",
    "    for i in range(0, len(l), n):\n",
    "        yield l[i : i + n]\n",
    "\n",
    "\n",
    "# Function to generate embeddings for content fields, also used for query embeddings\n",
    "@retry(wait=wait_random_exponential(min=1, max=20), stop=stop_after_attempt(6))\n",
    "def generate_embeddings(text):\n",
    "    response = client.embeddings.create(input=text, model=model)\n",
    "    return json.loads(response.model_dump_json())[\"data\"][0][\"embedding\"]\n",
    "\n",
    "\n",
    "chunked_content_docs = []\n",
    "sfc_counter = 0\n",
    "for sfc_counter in range(len(final_data_for_indexing)):\n",
    "    chunked_content = text_splitter.split_text(\n",
    "        final_data_for_indexing[sfc_counter][\"content\"]\n",
    "    )\n",
    "    chunk_counter = 0\n",
    "    for cc in chunked_content:\n",
    "        json_data = copy.deepcopy(final_data_for_indexing[sfc_counter])\n",
    "        json_data[\"content\"] = chunked_content[chunk_counter]\n",
    "        json_data[\"content_vector\"] = generate_embeddings(json_data[\"content\"])\n",
    "        json_data[\"ParentId\"] = f\"{json_data['ParentId']}\"\n",
    "        json_data[\"id\"] = f\"{json_data['ParentId']}_{chunk_counter}\"\n",
    "        chunk_counter += 1\n",
    "        chunked_content_docs.append(json_data)\n",
    "    sfc_counter += 1\n",
    "\n",
    "total_docs = len(chunked_content_docs)\n",
    "total_docs_uploaded += total_docs\n",
    "print(f\"Total Documents to Upload: {total_docs}\")\n",
    "\n",
    "for documents_chunk in divide_chunks(chunked_content_docs, n):\n",
    "    try:\n",
    "        print(f\"Uploading batch of {len(documents_chunk)} documents...\")\n",
    "        result = search_client.upload_documents(documents=documents_chunk)\n",
    "        # Check if all documents in the batch were uploaded successfully\n",
    "        if all(res.succeeded for res in result):\n",
    "            print(f\"Upload of batch of {len(documents_chunk)} documents succeeded.\")\n",
    "        else:\n",
    "            print(\"Some documents in the batch were not uploaded successfully.\")\n",
    "    except Exception as ex:\n",
    "        print(\"Error in multiple documents upload: \", ex)"
   ]
  },
  {
   "cell_type": "markdown",
   "metadata": {},
   "source": [
    "## Retrieval  "
   ]
  },
  {
   "cell_type": "markdown",
   "metadata": {},
   "source": [
    "Before executing this notebook, please review the notebook `04-retrieval.ipynb` for a better understanding of the process. \n",
    "\n",
    ">%pip install azure-search-documents==11.4.0b10"
   ]
  },
  {
   "cell_type": "code",
   "execution_count": 1,
   "metadata": {},
   "outputs": [],
   "source": [
    "import os\n",
    "from dotenv import load_dotenv\n",
    "from azure.core.credentials import AzureKeyCredential\n",
    "from azure.search.documents import SearchClient\n",
    "from azure.search.documents.models import RawVectorQuery\n",
    "\n",
    "from src.aoai.azure_open_ai import AzureOpenAIManager"
   ]
  },
  {
   "cell_type": "code",
   "execution_count": 3,
   "metadata": {},
   "outputs": [],
   "source": [
    "# Load environment variables from .env file\n",
    "load_dotenv()\n",
    "\n",
    "# Set up Azure Cognitive Search credentials\n",
    "service_endpoint = os.getenv(\"AZURE_AI_SEARCH_SERVICE_ENDPOINT\")\n",
    "key = os.getenv(\"AZURE_SEARCH_ADMIN_KEY\")\n",
    "credential = AzureKeyCredential(key)\n",
    "\n",
    "# Define the name of the Azure Search index\n",
    "# This is the index where your data is stored in Azure Search\n",
    "index_name = os.getenv(\"AZURE_SEARCH_INDEX_NAME_EMPLOYEES\")\n",
    "\n",
    "# Set up the Azure Search client with the specified index\n",
    "# This prepares the client to interact with the Azure Search service\n",
    "search_client = SearchClient(service_endpoint, index_name, credential=credential)\n",
    "\n",
    "# Set up the Azure Search client with the specified index\n",
    "# This prepares the client to interact with the Azure Search service\n",
    "search_client = SearchClient(service_endpoint, index_name, credential=credential)\n",
    "\n",
    "embedding_aoai_deployment_model = \"foundational-canadaeast-ada\"\n",
    "aoai_client = AzureOpenAIManager(embedding_model_name=embedding_aoai_deployment_model)\n",
    "\n",
    "search_query = \"has showcased remarkable expertise and dedication\"\n",
    "search_vector = aoai_client.generate_embedding(search_query)"
   ]
  },
  {
   "cell_type": "code",
   "execution_count": 4,
   "metadata": {},
   "outputs": [
    {
     "name": "stdout",
     "output_type": "stream",
     "text": [
      "ID: E04105_Employee_Sample_Data_0, Age: 59, Annual Salary: 99975.0, score: 0.03333333507180214, reranker: 3.553462028503418. Theodore has showcased remarkable expertise and dedication in his role as Technical Architect. His c\n",
      "ID: E02387_Employee_Sample_Data_0, Age: 55, Annual Salary: 141604.0, score: 0.032786883413791656, reranker: 1.8165210485458374. Emily has consistently demonstrated exceptional leadership and technical expertise. Her ability to d\n",
      "ID: E02387_Employee_Sample_Data_1, Age: 55, Annual Salary: 141604.0, score: 0.03125763311982155, reranker: 1.536381721496582. on time and within budget. Emily's strengths lie in her strategic thinking, leadership, and technica\n",
      "ID: E02387_Employee_Sample_Data_2, Age: 55, Annual Salary: 141604.0, score: 0.0314980149269104, reranker: 1.4992340803146362. executive leadership training and participating in conferences focusing on emerging technologies. Em\n",
      "ID: E04105_Employee_Sample_Data_1, Age: 59, Annual Salary: 99975.0, score: 0.032258063554763794, reranker: 1.4957873821258545. architecture, resulting in a 20% improvement in system efficiency and a significant reduction in dow\n"
     ]
    }
   ],
   "source": [
    "# hybrid retrieval + rerank\n",
    "r = search_client.search(\n",
    "    search_query,\n",
    "    top=5,\n",
    "    vector_queries=[\n",
    "        RawVectorQuery(vector=search_vector, k=50, fields=\"content_vector\")\n",
    "    ],\n",
    "    query_type=\"semantic\",\n",
    "    semantic_configuration_name=\"combined-index-fields-semantic-config\",\n",
    "    query_language=\"en-us\",\n",
    ")\n",
    "\n",
    "for doc in r:\n",
    "    content = doc[\"content\"].replace(\"\\n\", \" \")[:100]\n",
    "    print(\n",
    "        f\"ID: {doc['id']}, Age: {doc['Age']}, Annual Salary: {doc['AnnualSalary']}, score: {doc['@search.score']}, reranker: {doc['@search.reranker_score']}. {content}\"\n",
    "    )"
   ]
  },
  {
   "cell_type": "markdown",
   "metadata": {},
   "source": [
    "## Filtering Data Based on Age and Annual Salary"
   ]
  },
  {
   "cell_type": "markdown",
   "metadata": {},
   "source": [
    "\n",
    "expression `Age gt 58 and AnnualSalary lt 100000` \n",
    "\n",
    "The expression uses the 'gt' (greater than) and 'lt' (less than) operators to filter documents based on the values of the 'Age' and 'AnnualSalary' fields.\n",
    "\n",
    "\"Age gt 58\" returns documents where the 'Age' field is greater than 58.\n",
    "\"AnnualSalary lt 100000\" returns documents where the 'AnnualSalary' field is less than 100000.\n",
    "\n",
    "The 'and' operator is used to combine these two conditions, so the expression only returns documents where both conditions are true. That is, it returns documents where the 'Age' field is greater than 58 and the 'AnnualSalary' field is less than 100000.\n"
   ]
  },
  {
   "cell_type": "code",
   "execution_count": 5,
   "metadata": {},
   "outputs": [
    {
     "name": "stdout",
     "output_type": "stream",
     "text": [
      "ID: E04105_Employee_Sample_Data_0, Age: 59, Annual Salary: 99975.0, score: 0.03333333507180214, reranker: 3.553462028503418. Theodore has showcased remarkable expertise and dedication in his role as Technical Architect. His c\n",
      "ID: E04105_Employee_Sample_Data_1, Age: 59, Annual Salary: 99975.0, score: 0.032786883413791656, reranker: 1.4954043626785278. architecture, resulting in a 20% improvement in system efficiency and a significant reduction in dow\n",
      "ID: E04105_Employee_Sample_Data_2, Age: 59, Annual Salary: 99975.0, score: 0.032258063554763794, reranker: 1.4904258251190186. advanced certifications in emerging technologies relevant to manufacturing IT systems and attending \n"
     ]
    }
   ],
   "source": [
    "r = search_client.search(\n",
    "    search_query,\n",
    "    top=5,\n",
    "    vector_queries=[\n",
    "        RawVectorQuery(vector=search_vector, k=50, fields=\"content_vector\")\n",
    "    ],\n",
    "    query_type=\"semantic\",\n",
    "    semantic_configuration_name=\"combined-index-fields-semantic-config\",\n",
    "    query_language=\"en-us\",\n",
    "    filter=\"Age gt 58 and AnnualSalary lt 100000\",  # Add filter expression\n",
    ")\n",
    "\n",
    "for doc in r:\n",
    "    content = doc[\"content\"].replace(\"\\n\", \" \")[:100]\n",
    "    print(\n",
    "        f\"ID: {doc['id']}, Age: {doc['Age']}, Annual Salary: {doc['AnnualSalary']}, score: {doc['@search.score']}, reranker: {doc['@search.reranker_score']}. {content}\"\n",
    "    )"
   ]
  }
 ],
 "metadata": {
  "kernelspec": {
   "display_name": "vector-indexing-azureaisearch",
   "language": "python",
   "name": "python3"
  },
  "language_info": {
   "codemirror_mode": {
    "name": "ipython",
    "version": 3
   },
   "file_extension": ".py",
   "mimetype": "text/x-python",
   "name": "python",
   "nbconvert_exporter": "python",
   "pygments_lexer": "ipython3",
   "version": "3.9.18"
  }
 },
 "nbformat": 4,
 "nbformat_minor": 2
}
