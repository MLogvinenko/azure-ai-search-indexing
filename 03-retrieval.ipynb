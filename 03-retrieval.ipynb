{
 "cells": [
  {
   "cell_type": "markdown",
   "metadata": {},
   "source": [
    "## 📚 Prerequisites\n",
    "\n",
    "Before executing this notebook, make sure you have properly set up your Azure Services, created your Conda environment, and configured your environment variables as per the instructions provided in the [README.md](README.md) file.\n",
    "\n",
    ">%pip install azure-search-documents==11.4.0b10\n",
    "\n",
    "## 📋 Table of Contents\n",
    "\n",
    "Explore different retrieval methods in Azure AI Search:\n",
    "\n",
    "1. [**Understanding Types of Search**](#define-field-types): This section provides a comprehensive overview of the different types of search methods available in Azure AI Search.\n",
    "2. [**Keyword Search**](#keyword-search): Use direct query term matching with document content.\n",
    "3. [**Vector Search**](#vector-search): Employ embeddings for semantic content understanding and relevance ranking.\n",
    "4. [**Hybrid Search**](#hybrid-search): Combine keyword and vector search for comprehensive results.\n",
    "5. [**Reranking Search**](#reranking-search): Reorder initial search results for improved top result relevance.\n",
    "\n",
    "Additional resources:\n",
    "- [Azure AI Search Documentation](https://learn.microsoft.com/en-us/azure/search/)"
   ]
  },
  {
   "cell_type": "markdown",
   "metadata": {},
   "source": [
    "### 🧭 Understanding Types of Search  \n",
    "\n",
    "+ **Keyword Search**: Traditional search method relying on direct term matching. Efficient for exact matches but struggles with synonyms and context. [Learn More](https://learn.microsoft.com/en-us/azure/search/search-lucene-query-architecture)\n",
    "\n",
    "- **Vector Search**: Converts text into high-dimensional vectors to understand semantic meaning. Finds relevant documents even without exact keyword matches. Effectiveness depends on quality of training data. [Learn More](https://learn.microsoft.com/en-us/azure/search/vector-search-overview)\n",
    "\n",
    "+ **Hybrid Search**: Combines Keyword and Vector Search for comprehensive, contextually relevant results. Effective for complex queries requiring nuanced understanding. [Learn More](https://learn.microsoft.com/en-us/azure/search/vector-search-ranking#hybrid-search)\n",
    "\n",
    "- **Reranking Search**: Fine-tunes initial search results using advanced algorithms for relevance. Useful when initial retrieval returns relevant but not optimally ordered results. [Learn More](https://learn.microsoft.com/en-us/azure/search/semantic-search-overview)\n",
    "\n",
    "### 🚧 Limitations\n",
    "\n",
    "##### Keyword Search\n",
    "- **Synonym Challenges**: Struggles with recognizing synonyms or different expressions of the same concept.\n",
    "- **Context Understanding**: May not fully capture the broader context or the query's intent, especially in complex queries.\n",
    "##### Embedding-Based Search\n",
    "- **Keyword Precision**: May miss documents that contain exact terms if those terms don't semantically align with the query or document's overall content.\n",
    "- **Contextual Misinterpretations**: May overgeneralize or incorrectly interpret context, missing specific nuances.\n",
    "- **Training Data Dependency**: Performance heavily relies on the diversity and depth of the training data.\n",
    "### 💡 Recommendations\n",
    "\n",
    "To achieve higher relevance out of the box: \n",
    "\n",
    "1. **Hybrid Search**: Combines keyword and vector search methods to ensure comprehensive document retrieval across a range of queries, from highly specific to semantically complex.\n",
    "\n",
    "2. **Re-Ranking and L2 in AI Search**: Enhances initial search results by applying sophisticated ranking algorithms, improving relevance and accuracy, especially for nuanced queries."
   ]
  },
  {
   "cell_type": "code",
   "execution_count": null,
   "metadata": {},
   "outputs": [],
   "source": [
    "# %pip install azure-search-documents==11.4.0b10"
   ]
  },
  {
   "cell_type": "code",
   "execution_count": 1,
   "metadata": {},
   "outputs": [],
   "source": [
    "import os\n",
    "from dotenv import load_dotenv\n",
    "from azure.core.credentials import AzureKeyCredential\n",
    "from azure.search.documents import SearchClient\n",
    "from azure.search.documents.models import RawVectorQuery\n",
    "\n",
    "from src.aoai.azure_open_ai import AzureOpenAIManager"
   ]
  },
  {
   "cell_type": "code",
   "execution_count": 2,
   "metadata": {},
   "outputs": [],
   "source": [
    "# Load environment variables from .env file\n",
    "load_dotenv()\n",
    "\n",
    "# Set up Azure Cognitive Search credentials\n",
    "service_endpoint = os.getenv(\"AZURE_AI_SEARCH_SERVICE_ENDPOINT\")\n",
    "key = os.getenv(\"AZURE_SEARCH_ADMIN_KEY\")\n",
    "credential = AzureKeyCredential(key)\n",
    "\n",
    "# Define the name of the Azure Search index\n",
    "# This is the index where your data is stored in Azure Search\n",
    "index_name = \"index-churchofjesuschrist-web\"\n",
    "\n",
    "# Set up the Azure Search client with the specified index\n",
    "# This prepares the client to interact with the Azure Search service\n",
    "search_client = SearchClient(service_endpoint, index_name, credential=credential)"
   ]
  },
  {
   "cell_type": "code",
   "execution_count": 3,
   "metadata": {},
   "outputs": [],
   "source": [
    "# Define the name of the Azure Search index\n",
    "# This is the index where your data is stored in Azure Search\n",
    "index_name = \"index-churchofjesuschrist-web\"\n",
    "\n",
    "# Set up the Azure Search client with the specified index\n",
    "# This prepares the client to interact with the Azure Search service\n",
    "search_client = SearchClient(service_endpoint, index_name, credential=credential)"
   ]
  },
  {
   "cell_type": "code",
   "execution_count": 4,
   "metadata": {},
   "outputs": [],
   "source": [
    "embedding_aoai_deployment_model = \"foundational-ada\"\n",
    "aoai_client = AzureOpenAIManager(embedding_model_name=embedding_aoai_deployment_model)"
   ]
  },
  {
   "cell_type": "code",
   "execution_count": 5,
   "metadata": {},
   "outputs": [],
   "source": [
    "search_query = \"Who is Jesus Christ?\"\n",
    "search_vector = aoai_client.generate_embedding(search_query)"
   ]
  },
  {
   "cell_type": "markdown",
   "metadata": {},
   "source": [
    "## Keyword Search \n",
    "\n",
    "**Full-text search**: This method uses the `@search.score` parameter and the BM25 algorithm for scoring. The BM25 algorithm is a bag-of-words retrieval function that ranks a set of documents based on the query terms appearing in each document, regardless of their proximity within the document. There is no upper limit for the score in this method.\n",
    "\n",
    "```json\n",
    "\"value\": [\n",
    " {\n",
    "    \"@search.score\": 5.1958685,\n",
    "    \"@search.features\": {\n",
    "        \"description\": {\n",
    "            \"uniqueTokenMatches\": 1.0,\n",
    "            \"similarityScore\": 0.29541412,\n",
    "            \"termFrequency\" : 2\n",
    "        },\n",
    "        \"title\": {\n",
    "            \"uniqueTokenMatches\": 3.0,\n",
    "            \"similarityScore\": 1.75451557,\n",
    "            \"termFrequency\" : 6\n",
    "        }\n",
    "    }\n",
    " }\n",
    "]\n",
    " ```\n",
    "\n",
    "- `uniqueTokenMatches`: This parameter indicates the number of unique query terms found in the document field. A higher value means more unique query terms were found, suggesting a stronger match.\n",
    "\n",
    "- `similarityScore`: This parameter represents the semantic similarity between the content of the document field and the query terms. A higher `similarityScore` means the document content is more semantically similar to the query, indicating a more relevant match.\n",
    "\n",
    "- `termFrequency`: This parameter shows how often the query terms appear within the document field. A higher `termFrequency` means the query terms appear more often, suggesting a stronger match.\n",
    "\n",
    "These parameters contribute to the overall `@search.score`. The `@search.score` is a cumulative measure of a document's relevance to the search query. A higher `@search.score` indicates a stronger match between the document and the search query.\n",
    "\n",
    "When interpreting search results, documents with higher scores are generally considered more relevant to the query than those with lower scores."
   ]
  },
  {
   "cell_type": "code",
   "execution_count": 6,
   "metadata": {},
   "outputs": [
    {
     "name": "stdout",
     "output_type": "stream",
     "text": [
      "score: 8.978319. 18.12.1. Who Performs the OrdinanceOrdinances and blessings are sacred acts performed by the authority of the priesthood and in the name of Jesus Christ. As priesthood holders perform ordinances and blessings, they follow the Savior’s example of blessing others.\n",
      "score: 8.562346. 18.9.2. Who Performs the OrdinanceOrdinances and blessings are sacred acts performed by the authority of the priesthood and in the name of Jesus Christ. As priesthood holders perform ordinances and blessings, they follow the Savior’s example of blessing others.\n",
      "score: 8.388591. 18.6.1. Who Gives the BlessingOrdinances and blessings are sacred acts performed by the authority of the priesthood and in the name of Jesus Christ. As priesthood holders perform ordinances and blessings, they follow the Savior’s example of blessing others.   18.6.2. InstructionsOrdinances and blessings are sacred acts performed by the authority of the priesthood and in the name of Jesus Christ. As priesthood holders perform ordinances and blessings, they follow the Savior’s example of blessing others.\n",
      "score: 8.387858. 18.10.4. Who Performs the OrdinanceOrdinances and blessings are sacred acts performed by the authority of the priesthood and in the name of Jesus Christ. As priesthood holders perform ordinances and blessings, they follow the Savior’s example of blessing others.\n",
      "score: 8.115376. 11.3.2. Adult Young Women PresidencyThe Young Women organization helps young women make and keep sacred covenants and deepen their conversion to Jesus Christ and His gospel.   11.3.3. SecretaryThe Young Women organization helps young women make and keep sacred covenants and deepen their conversion to Jesus Christ and His gospel.   11.3.4. Class Presidency and SecretaryThe Young Women organization helps young women make and keep sacred covenants and deepen their conversion to Jesus Christ and His gospel.\n"
     ]
    }
   ],
   "source": [
    "# keyword search\n",
    "r = search_client.search(search_query, top=5)\n",
    "for doc in r:\n",
    "    if \"Jesus\" in doc[\"content\"]:\n",
    "        content = doc[\"content\"].replace(\"\\n\", \" \")[:1000]\n",
    "        print(f\"score: {doc['@search.score']}. {content}\")"
   ]
  },
  {
   "cell_type": "markdown",
   "metadata": {},
   "source": [
    "## Vector Search \n",
    "\n",
    "This method also uses the `@search.score` parameter but uses the HNSW (Hierarchical Navigable Small World) algorithm for scoring. The HNSW algorithm is an efficient method for nearest neighbor search in high dimensional spaces. The scoring range is 0.333 - 1.00 for Cosine similarity, and 0 to 1 for Euclidean and DotProduct similarities."
   ]
  },
  {
   "cell_type": "code",
   "execution_count": 9,
   "metadata": {},
   "outputs": [
    {
     "name": "stdout",
     "output_type": "stream",
     "text": [
      "score: 0.84436065. God’s Work of Salvation and Exaltation   Living the Gospel of Jesus Christ   16. Living the Gospel of Jesus ChristWe live the gospel as we exercise faith in Jesus Christ, repent daily, make covenants with God as we receive the ordinances of salvation and exaltation, and endure to the end by keeping those covenants.  17. Teaching the Gospel   17. Teaching the GospelEffective gospel teaching helps people grow in their testimonies and their faith in Heavenly Father and Jesus Christ.\n",
      "score: 0.83588874. Isaiah 7Ephraim and Syria wage war against Judah—Christ will be born of a virgin—Compare 2 Nephi 17.   Isaiah 8Christ will be as a stone of stumbling and a rock of offense—Seek the Lord, not muttering wizards—Turn to the law and to the testimony for guidance—Compare 2 Nephi 18.   Isaiah 9Isaiah speaks about the Messiah—The people in darkness will see a great Light—Unto us a Child is born—He will be the Prince of Peace and reign on David’s throne—Compare 2 Nephi 19.\n",
      "score: 0.83536613. Psalm 45A messianic psalm—The Messiah is fairer than the children of men—He is anointed with the oil of gladness above His fellows—His name will be remembered in all generations.   Psalm 46God is our refuge and strength—He dwells in His city, does marvelous things, and says, Be still and know that I am God.   Psalm 47The Lord is King over all the earth—Sing praises to His name, for He reigns over all.   Psalm 48Zion, the city of God, the joy of the whole earth, will be established forever.\n",
      "score: 0.8350679. Isaiah 42Isaiah speaks about the Messiah—The Lord will bring His law and His justice, be a light to the Gentiles, and free the prisoners—Praise the Lord.   Isaiah 43To Israel the Lord says, I am your God; I will gather your descendants; beside me there is no Savior; you are my witnesses.   Isaiah 44The Lord’s Spirit will be poured out on the descendants of Israel—Idols of wood are as fuel for a fire—The Lord will gather, bless, and redeem Israel and rebuild Jerusalem.\n",
      "score: 0.8338767. Zechariah 12In the final great war, all nations will be engaged at Jerusalem, but the Lord will defend His people—Then the Jews will look upon the Lord, whom they crucified, and there will be great mourning.   Zechariah 13The Jews will gain forgiveness at the Second Coming—They will ask the Lord, What are these wounds in Thine hands?—The remnant, tried and refined, will be His people.\n"
     ]
    }
   ],
   "source": [
    "# Pure vector Search\n",
    "r = search_client.search(\n",
    "    None,\n",
    "    top=5,\n",
    "    vector_queries=[\n",
    "        RawVectorQuery(vector=search_vector, k=50, fields=\"content_vector\")\n",
    "    ],\n",
    ")\n",
    "for doc in r:\n",
    "    content = doc[\"content\"].replace(\"\\n\", \" \")[:1000]\n",
    "    print(f\"score: {doc['@search.score']}. {content}\")"
   ]
  },
  {
   "cell_type": "markdown",
   "metadata": {},
   "source": [
    "## Hybrid search\n",
    "\n",
    "This method uses the `@search.score` parameter and the RRF (Reciprocal Rank Fusion) algorithm for scoring. The RRF algorithm is a method for data fusion that combines the results of multiple queries. The upper limit of the score is bounded by the number of queries being fused, with each query contributing a maximum of approximately 1 to the RRF score. For example, merging three queries would produce higher RRF scores than if only two search results are merged."
   ]
  },
  {
   "cell_type": "code",
   "execution_count": 18,
   "metadata": {},
   "outputs": [
    {
     "name": "stdout",
     "output_type": "stream",
     "text": [
      "score: 0.028370220214128494, reranker: None. 17.1. Principles of Christlike Teaching   17.1. Principles of Christlike TeachingEffective gospel teaching helps people grow in their testimonies and their faith in Heavenly Father and Jesus Christ.   17.1.1. Love Those You TeachEffective gospel teaching helps people grow in their testimonies and their faith in Heavenly Father and Jesus Christ.   17.1.2. Teach by the SpiritEffective gospel teaching helps people grow in their testimonies and their faith in Heavenly Father and Jesus Christ.\n",
      "score: 0.026470590382814407, reranker: None. God’s Work of Salvation and Exaltation   Living the Gospel of Jesus Christ   16. Living the Gospel of Jesus ChristWe live the gospel as we exercise faith in Jesus Christ, repent daily, make covenants with God as we receive the ordinances of salvation and exaltation, and endure to the end by keeping those covenants.  17. Teaching the Gospel   17. Teaching the GospelEffective gospel teaching helps people grow in their testimonies and their faith in Heavenly Father and Jesus Christ.\n",
      "score: 0.022622834891080856, reranker: None. Doctrinal Foundation   1. God’s Plan and Your Role in His Work of Salvation and Exaltation   1.0. IntroductionThis chapter will help you gain a vision of God’s plan of happiness, His work of salvation and exaltation, and the purpose of The Church of Jesus Christ of Latter-day Saints.   1.1. God’s Plan of HappinessThis chapter will help you gain a vision of God’s plan of happiness, His work of salvation and exaltation, and the purpose of The Church of Jesus Christ of Latter-day Saints.\n",
      "score: 0.021963562816381454, reranker: None. 32.2.2. Help a Person Access the Redeeming Power of Jesus Christ through RepentanceMost repentance takes place between an individual, God, and those who have been affected by a person’s sins. However, sometimes a bishop or stake president needs to help Church members in their efforts to repent.\n",
      "score: 0.020707758143544197, reranker: None. 14.2.1. Living the Gospel of Jesus ChristMen and women who have not married or who are divorced or widowed make up a significant portion of Church membership. Leaders reach out to these members and include them in the work of the Church.   14.2.2. Caring for Those in NeedMen and women who have not married or who are divorced or widowed make up a significant portion of Church membership. Leaders reach out to these members and include them in the work of the Church.\n"
     ]
    }
   ],
   "source": [
    "r = search_client.search(\n",
    "    search_query,\n",
    "    top=5,\n",
    "    vector_queries=[\n",
    "        RawVectorQuery(vector=search_vector, k=50, fields=\"content_vector\")\n",
    "    ],\n",
    ")\n",
    "for doc in r:\n",
    "    content = doc[\"content\"].replace(\"\\n\", \" \")[:1000]\n",
    "    print(\n",
    "        f\"score: {doc['@search.score']}, reranker: {doc['@search.reranker_score']}. {content}\"\n",
    "    )"
   ]
  },
  {
   "cell_type": "markdown",
   "metadata": {},
   "source": [
    "#### Enable Exhaustive `ExhaustiveKnn`"
   ]
  },
  {
   "cell_type": "code",
   "execution_count": 19,
   "metadata": {},
   "outputs": [
    {
     "name": "stdout",
     "output_type": "stream",
     "text": [
      "score: 0.028370220214128494, reranker: None. 17.1. Principles of Christlike Teaching   17.1. Principles of Christlike TeachingEffective gospel teaching helps people grow in their testimonies and their faith in Heavenly Father and Jesus Christ.   17.1.1. Love Those You TeachEffective gospel teaching helps people grow in their testimonies and their faith in Heavenly Father and Jesus Christ.   17.1.2. Teach by the SpiritEffective gospel teaching helps people grow in their testimonies and their faith in Heavenly Father and Jesus Christ.\n",
      "score: 0.026470590382814407, reranker: None. God’s Work of Salvation and Exaltation   Living the Gospel of Jesus Christ   16. Living the Gospel of Jesus ChristWe live the gospel as we exercise faith in Jesus Christ, repent daily, make covenants with God as we receive the ordinances of salvation and exaltation, and endure to the end by keeping those covenants.  17. Teaching the Gospel   17. Teaching the GospelEffective gospel teaching helps people grow in their testimonies and their faith in Heavenly Father and Jesus Christ.\n",
      "score: 0.022622834891080856, reranker: None. Doctrinal Foundation   1. God’s Plan and Your Role in His Work of Salvation and Exaltation   1.0. IntroductionThis chapter will help you gain a vision of God’s plan of happiness, His work of salvation and exaltation, and the purpose of The Church of Jesus Christ of Latter-day Saints.   1.1. God’s Plan of HappinessThis chapter will help you gain a vision of God’s plan of happiness, His work of salvation and exaltation, and the purpose of The Church of Jesus Christ of Latter-day Saints.\n",
      "score: 0.021963562816381454, reranker: None. 32.2.2. Help a Person Access the Redeeming Power of Jesus Christ through RepentanceMost repentance takes place between an individual, God, and those who have been affected by a person’s sins. However, sometimes a bishop or stake president needs to help Church members in their efforts to repent.\n",
      "score: 0.020707758143544197, reranker: None. 14.2.1. Living the Gospel of Jesus ChristMen and women who have not married or who are divorced or widowed make up a significant portion of Church membership. Leaders reach out to these members and include them in the work of the Church.   14.2.2. Caring for Those in NeedMen and women who have not married or who are divorced or widowed make up a significant portion of Church membership. Leaders reach out to these members and include them in the work of the Church.\n"
     ]
    }
   ],
   "source": [
    "r = search_client.search(\n",
    "    search_query,\n",
    "    top=5,\n",
    "    vector_queries=[\n",
    "        RawVectorQuery(\n",
    "            vector=search_vector, k=50, fields=\"content_vector\", exhaustive=True\n",
    "        )\n",
    "    ],\n",
    ")\n",
    "for doc in r:\n",
    "    content = doc[\"content\"].replace(\"\\n\", \" \")[:1000]\n",
    "    print(\n",
    "        f\"score: {doc['@search.score']}, reranker: {doc['@search.reranker_score']}. {content}\"\n",
    "    )"
   ]
  },
  {
   "cell_type": "markdown",
   "metadata": {},
   "source": [
    "## Semantic ranking\n",
    "\n",
    "This method uses the `@search.rerankerScore` parameter and a semantic ranking algorithm for scoring. Semantic ranking is a method that uses machine learning models to understand the semantic content of the queries and documents, and ranks the documents based on their relevance to the query. The scoring range is 0.00 - 4.00 in this method.\n",
    "\n",
    "Remember, a higher score indicates a higher relevance of the document to the query."
   ]
  },
  {
   "cell_type": "code",
   "execution_count": 20,
   "metadata": {},
   "outputs": [
    {
     "name": "stdout",
     "output_type": "stream",
     "text": [
      "score: 0.015384615398943424, reranker: 2.584941864013672. 27.1.3. Members Who Have Physical DisabilitiesThe temple is the house of the Lord. It points us to our Savior, Jesus Christ. In temples, we participate in sacred ordinances and make covenants with Heavenly Father that bind us to Him and to our Savior. These covenants and ordinances prepare us to return to Heavenly Father’s presence and to be sealed together as families for eternity.\n",
      "score: 0.01587301678955555, reranker: 2.510263442993164. 18.10.4. Who Performs the OrdinanceOrdinances and blessings are sacred acts performed by the authority of the priesthood and in the name of Jesus Christ. As priesthood holders perform ordinances and blessings, they follow the Savior’s example of blessing others.\n",
      "score: 0.01660528965294361, reranker: 2.4976255893707275. 27.3.1. Who May Be Sealed in a TempleThe temple is the house of the Lord. It points us to our Savior, Jesus Christ. In temples, we participate in sacred ordinances and make covenants with Heavenly Father that bind us to Him and to our Savior. These covenants and ordinances prepare us to return to Heavenly Father’s presence and to be sealed together as families for eternity.\n",
      "score: 0.026470590382814407, reranker: 2.368183135986328. God’s Work of Salvation and Exaltation   Living the Gospel of Jesus Christ   16. Living the Gospel of Jesus ChristWe live the gospel as we exercise faith in Jesus Christ, repent daily, make covenants with God as we receive the ordinances of salvation and exaltation, and endure to the end by keeping those covenants.  17. Teaching the Gospel   17. Teaching the GospelEffective gospel teaching helps people grow in their testimonies and their faith in Heavenly Father and Jesus Christ.\n",
      "score: 0.01666666753590107, reranker: 2.3645451068878174. 18.12.1. Who Performs the OrdinanceOrdinances and blessings are sacred acts performed by the authority of the priesthood and in the name of Jesus Christ. As priesthood holders perform ordinances and blessings, they follow the Savior’s example of blessing others.\n"
     ]
    }
   ],
   "source": [
    "# hybrid retrieval + rerank\n",
    "r = search_client.search(\n",
    "    search_query,\n",
    "    top=5,\n",
    "    vector_queries=[\n",
    "        RawVectorQuery(vector=search_vector, k=50, fields=\"content_vector\")\n",
    "    ],\n",
    "    query_type=\"semantic\",\n",
    "    semantic_configuration_name=\"config\",\n",
    "    query_language=\"en-us\",\n",
    ")\n",
    "\n",
    "for doc in r:\n",
    "    content = doc[\"content\"].replace(\"\\n\", \" \")[:1000]\n",
    "    print(\n",
    "        f\"score: {doc['@search.score']}, reranker: {doc['@search.reranker_score']}. {content}\"\n",
    "    )"
   ]
  }
 ],
 "metadata": {
  "kernelspec": {
   "display_name": "build-your-own-copilot",
   "language": "python",
   "name": "python3"
  },
  "language_info": {
   "codemirror_mode": {
    "name": "ipython",
    "version": 3
   },
   "file_extension": ".py",
   "mimetype": "text/x-python",
   "name": "python",
   "nbconvert_exporter": "python",
   "pygments_lexer": "ipython3",
   "version": "3.9.18"
  }
 },
 "nbformat": 4,
 "nbformat_minor": 2
}
